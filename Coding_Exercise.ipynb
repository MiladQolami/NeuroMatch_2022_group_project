{
  "nbformat": 4,
  "nbformat_minor": 0,
  "metadata": {
    "colab": {
      "name": " Coding_Exercise.ipynb",
      "provenance": [],
      "authorship_tag": "ABX9TyPg4K1MRNYFo6DsMKB5ukkt",
      "include_colab_link": true
    },
    "kernelspec": {
      "name": "python3",
      "display_name": "Python 3"
    },
    "language_info": {
      "name": "python"
    }
  },
  "cells": [
    {
      "cell_type": "markdown",
      "metadata": {
        "id": "view-in-github",
        "colab_type": "text"
      },
      "source": [
        "<a href=\"https://colab.research.google.com/github/miladqolamee/NeuroMatch_2022_group_project/blob/main/Coding_Exercise.ipynb\" target=\"_parent\"><img src=\"https://colab.research.google.com/assets/colab-badge.svg\" alt=\"Open In Colab\"/></a>"
      ]
    },
    {
      "cell_type": "markdown",
      "source": [
        "# This notebook is created for exploratory data analysis on Allen 2P dataset by \\name of our group\\ "
      ],
      "metadata": {
        "id": "saVvx9tIOkce"
      }
    },
    {
      "cell_type": "markdown",
      "source": [
        "---\n",
        "# First inatal and upgrade allensdk package"
      ],
      "metadata": {
        "id": "EYmrOD6DOWbM"
      }
    },
    {
      "cell_type": "code",
      "source": [
        "# @title Instal allensdk package\n",
        "# @markdown Run this cell just one time.\n",
        "# @markdown After running this cell, restart the Runtime\n",
        "\n",
        "pip install allensdk"
      ],
      "metadata": {
        "cellView": "form",
        "id": "IxBHK3ZQORRj"
      },
      "execution_count": null,
      "outputs": []
    },
    {
      "cell_type": "code",
      "execution_count": null,
      "metadata": {
        "cellView": "form",
        "id": "ObAPF2m2MIxl"
      },
      "outputs": [],
      "source": [
        "# @title Upgrade the package\n",
        "!pip install --upgrade pip\n",
        "!pip install allensdk\n"
      ]
    },
    {
      "cell_type": "code",
      "source": [
        "# @title Improt relevant packages\n",
        "import numpy as np\n",
        "import pandas as pd\n",
        "\n",
        "import allensdk\n",
        "from allensdk.brain_observatory.behavior.behavior_project_cache import VisualBehaviorOphysProjectCache"
      ],
      "metadata": {
        "cellView": "form",
        "id": "9a4-IjIfOIRy"
      },
      "execution_count": null,
      "outputs": []
    },
    {
      "cell_type": "markdown",
      "source": [
        "---\n",
        "# A brief summary on Allen 2P dataset \n",
        "\n",
        "\n",
        "- `First`\n",
        "-\n",
        "-\n",
        "For more information see:\n",
        "[Link](https://allensdk.readthedocs.io/en/latest/visual_behavior_optical_physiology.html)."
      ],
      "metadata": {
        "id": "Mw6OPsSUP2LV"
      }
    }
  ]
}