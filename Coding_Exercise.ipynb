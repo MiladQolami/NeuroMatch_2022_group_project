{
  "nbformat": 4,
  "nbformat_minor": 0,
  "metadata": {
    "colab": {
      "name": " Coding_Exercise.ipynb",
      "provenance": [],
      "collapsed_sections": [],
      "include_colab_link": true
    },
    "kernelspec": {
      "name": "python3",
      "display_name": "Python 3"
    },
    "language_info": {
      "name": "python"
    }
  },
  "cells": [
    {
      "cell_type": "markdown",
      "metadata": {
        "id": "view-in-github",
        "colab_type": "text"
      },
      "source": [
        "<a href=\"https://colab.research.google.com/github/miladqolamee/NeuroMatch_2022_group_project/blob/main/Coding_Exercise.ipynb\" target=\"_parent\"><img src=\"https://colab.research.google.com/assets/colab-badge.svg\" alt=\"Open In Colab\"/></a>"
      ]
    },
    {
      "cell_type": "markdown",
      "source": [
        "# This notebook is created for exploratory data analysis on Allen 2P dataset by **Pierogi All Stras** "
      ],
      "metadata": {
        "id": "saVvx9tIOkce"
      }
    },
    {
      "cell_type": "markdown",
      "source": [
        "---\n",
        "# A brief summary of Allen 2P Experiment Design\n",
        "\n",
        "\n",
        "- Single and multiple-plane 2 photon calcium imaging was used.\n",
        "- Exitatory and inhibitory populaiton of nuerons were imaged in different cre-lines.\n",
        "- Each population was imaged over multiple days and under different experimental conditions (with familiar, novel stimuli and under active and passive veiwing conditions)\n",
        "- This dataset can be used to evaluate the influence of experience, expectation and task engagemen on neural coding and dynamics.\n",
        "- Overal, we have 82 mouse, 3021 behavioral sessions and 551 imaging sessions. In total 34619 cells were recorded.\n",
        "- Mice performed a go/no go visual change detection task. Visual stimui were presented continuously for 1 hour. The start of trial was not indicated and mouse was free to run.\n",
        "\n",
        "For more information see:\n",
        "[Link](https://allensdk.readthedocs.io/en/latest/visual_behavior_optical_physiology.html)."
      ],
      "metadata": {
        "id": "Mw6OPsSUP2LV"
      }
    },
    {
      "cell_type": "markdown",
      "source": [
        "# Experimental setup \n",
        "\n",
        "<img src=\"https://github.com/miladqolamee/NeuroMatch_2022_group_project/blob/main/Allen%20viewing%20condition.png?raw=1\" alt=\"Experimental setup\" class=\"bg-primary\" width=\"75%\">"
      ],
      "metadata": {
        "id": "KxXfYM_ZZzYE"
      }
    },
    {
      "cell_type": "markdown",
      "source": [
        "---\n",
        "# A brief summary of Allen 2P Dataset\n",
        "To access data in the dataset we can instal `allensdk` package. By using `AllenBehaviorOphysProjectCache` object and its methods in this package we can access desired data. \n",
        "\n",
        "In the dataset we have 3 tables and 2 datasets streams. We should use informatin inside the table to extract our desired subset of information. These 3 tables are:\n",
        "\n",
        "1) Behavior Sessions Table: Contains metadata for behavioral sessions (both trianing session and also sessions whcih imaging was perfomed). This table can be accessed by `get_behavior_session_talbe()` method.\n",
        "\n",
        "2) Ophys Sessions Table: Contains metadata and experimental conditions for all sessions. This talbe can accessed by `get_ophys_session_table()` method.\n",
        "\n",
        "3) Ophys Experiments Table: Contains metadata and experimental conditions fo all imaging experiment (aka imaging plane). This table can be accessed by `get_experiment_session_table()` method.\n",
        "\n",
        "For more information see:\n",
        "[Link](https://github.com/miladqolamee/NeuroMatch_2022_group_project/blob/main/VBP_WhitePaper_SDK_Documentation.pdf)."
      ],
      "metadata": {
        "id": "hYL3XIrqN4ey"
      }
    },
    {
      "cell_type": "markdown",
      "source": [
        "# Allen 2P dataset terminology\n",
        "\n",
        "<img src=\"https://allensdk.readthedocs.io/en/latest/_static/visual_behavior_2p/data_structure.png\" alt=\"dataset terminology\" class=\"bg-primary\" width=\"100%\">"
      ],
      "metadata": {
        "id": "6-8hARAR0yCz"
      }
    },
    {
      "cell_type": "markdown",
      "source": [
        ""
      ],
      "metadata": {
        "id": "8Bi43yH6zuJ2"
      }
    },
    {
      "cell_type": "markdown",
      "source": [
        "---\n",
        "# First instal and upgrade allensdk package"
      ],
      "metadata": {
        "id": "EYmrOD6DOWbM"
      }
    },
    {
      "cell_type": "code",
      "source": [
        "# @title Instal allensdk package\n",
        "# @markdown Run this cell and then restart the Runtime.\n",
        "\n",
        "# @markdown After running this cell for the first time you don't nee to rerun it.\n",
        "#pip install allensdk\n",
        "!pip install allensdk\n",
        "!pip install hdmf --upgrade"
      ],
      "metadata": {
        "id": "IxBHK3ZQORRj",
        "cellView": "form"
      },
      "execution_count": null,
      "outputs": []
    },
    {
      "cell_type": "code",
      "execution_count": null,
      "metadata": {
        "id": "ObAPF2m2MIxl",
        "cellView": "form"
      },
      "outputs": [],
      "source": [
        "# @title Upgrade the package\n",
        "!pip install --upgrade pip\n",
        "!pip install allensdk\n"
      ]
    },
    {
      "cell_type": "code",
      "source": [
        "# @title Improt relevant packages\n",
        "import numpy as np\n",
        "import pandas as pd\n",
        "from pathlib import Path\n",
        "import math\n",
        "\n",
        "import allensdk\n",
        "from allensdk.brain_observatory.behavior.behavior_project_cache import VisualBehaviorOphysProjectCache"
      ],
      "metadata": {
        "id": "9a4-IjIfOIRy",
        "cellView": "form"
      },
      "execution_count": 2,
      "outputs": []
    },
    {
      "cell_type": "markdown",
      "source": [
        "## First we need a file path because we need to pass it to cache object to indicate where the file should be downloaded\n",
        "\n",
        "## By calling `VisualBehaviorOphysProjectCache`, Tables will be downloaded"
      ],
      "metadata": {
        "id": "kCmH5Ia4qB2i"
      }
    },
    {
      "cell_type": "code",
      "execution_count": null,
      "metadata": {
        "id": "rjIk48eVpiWH"
      },
      "outputs": [],
      "source": [
        "# Update this to a valid directory in your filesystem\n",
        "data_storage_directory = Path(\"/local1/visual_behavior_ophys_cache_dir\")\n",
        "\n",
        "cache = VisualBehaviorOphysProjectCache.from_s3_cache(cache_dir=data_storage_directory)"
      ]
    },
    {
      "cell_type": "markdown",
      "source": [
        "## Behavior Sessions Table"
      ],
      "metadata": {
        "id": "AlpIi1DkuKBQ"
      }
    },
    {
      "cell_type": "code",
      "source": [
        "behavior_table = cache.get_behavior_session_table()   # Getting Behavior Session Table\n",
        "behavior_table.sample(5)                              # Show 5 random observation\n",
        "print(len(behavior_table))                            # How many rows?\n",
        "print(len(behavior_table.ophys_session_id.unique()))  # How many unique imaging session"
      ],
      "metadata": {
        "colab": {
          "base_uri": "https://localhost:8080/"
        },
        "id": "ICQkz8xFuXgl",
        "outputId": "748bd2e3-1d40-4751-b318-52bea4ed247b"
      },
      "execution_count": 4,
      "outputs": [
        {
          "output_type": "stream",
          "name": "stdout",
          "text": [
            "4787\n",
            "706\n"
          ]
        }
      ]
    },
    {
      "cell_type": "markdown",
      "source": [
        "## Selecting behavior sessions for VIP and SST nuerons"
      ],
      "metadata": {
        "id": "8JCN5BCBzXwa"
      }
    },
    {
      "cell_type": "code",
      "source": [
        "experiment_variables = behavior_table.columns      # All variables in behavior table\n",
        "\n",
        "behavior_table.cre_line.unique()    # How many unique cre-line we have\n",
        "\n",
        "Vip_behavior_talbe = behavior_table[(behavior_table.cre_line.values == 'Vip-IRES-Cre') & \n",
        "                                    (behavior_table.ophys_session_id.isnull() == False)]\n",
        "Sst_behavior_table = behavior_table[(behavior_table.cre_line.values == 'Sst-IRES-Cre') & \n",
        "                                    (behavior_table.ophys_session_id.isnull() == False)]\n",
        "\n",
        "\n",
        "# getting information just for one mouse for simplification and sort its table by date of aquisition\n",
        "Vip_mouse_id = Vip_behavior_talbe.mouse_id.unique()[0]\n",
        "Sst_mouse_id = Sst_behavior_table.mouse_id.unique()[0]\n",
        "\n",
        "this_mouse_Vip_behavior_talbe = behavior_table[(behavior_table.cre_line.values == 'Vip-IRES-Cre') & \n",
        "                                    (behavior_table.ophys_session_id.isnull() == False)\n",
        "                                    & (behavior_table.mouse_id.values == Vip_mouse_id)].sort_values(\n",
        "                                        by = 'date_of_acquisition')\n",
        "this_mouse_Sst_behavior_table = behavior_table[(behavior_table.cre_line.values == 'Sst-IRES-Cre') & \n",
        "                                    (behavior_table.ophys_session_id.isnull() == False)\n",
        "                                    & (behavior_table.mouse_id.values == Sst_mouse_id)].sort_values(\n",
        "                                        by = 'date_of_acquisition')\n",
        "\n"
      ],
      "metadata": {
        "colab": {
          "base_uri": "https://localhost:8080/",
          "height": 541
        },
        "id": "5g13eH_yO05p",
        "outputId": "e461601c-083b-4569-96d2-4398b9215879"
      },
      "execution_count": 11,
      "outputs": [
        {
          "output_type": "execute_result",
          "data": {
            "text/plain": [
              "                    equipment_name  \\\n",
              "behavior_session_id                  \n",
              "792680306                  CAM2P.4   \n",
              "794968300                  CAM2P.4   \n",
              "795742990                  CAM2P.4   \n",
              "796052844                  CAM2P.4   \n",
              "796251270                  CAM2P.4   \n",
              "798126878                  CAM2P.4   \n",
              "\n",
              "                                                     full_genotype  mouse_id  \\\n",
              "behavior_session_id                                                            \n",
              "792680306            Vip-IRES-Cre/wt;Ai148(TIT2L-GC6f-ICL-tTA2)/wt    412036   \n",
              "794968300            Vip-IRES-Cre/wt;Ai148(TIT2L-GC6f-ICL-tTA2)/wt    412036   \n",
              "795742990            Vip-IRES-Cre/wt;Ai148(TIT2L-GC6f-ICL-tTA2)/wt    412036   \n",
              "796052844            Vip-IRES-Cre/wt;Ai148(TIT2L-GC6f-ICL-tTA2)/wt    412036   \n",
              "796251270            Vip-IRES-Cre/wt;Ai148(TIT2L-GC6f-ICL-tTA2)/wt    412036   \n",
              "798126878            Vip-IRES-Cre/wt;Ai148(TIT2L-GC6f-ICL-tTA2)/wt    412036   \n",
              "\n",
              "                                  reporter_line     driver_line sex  \\\n",
              "behavior_session_id                                                   \n",
              "792680306            Ai148(TIT2L-GC6f-ICL-tTA2)  [Vip-IRES-Cre]   F   \n",
              "794968300            Ai148(TIT2L-GC6f-ICL-tTA2)  [Vip-IRES-Cre]   F   \n",
              "795742990            Ai148(TIT2L-GC6f-ICL-tTA2)  [Vip-IRES-Cre]   F   \n",
              "796052844            Ai148(TIT2L-GC6f-ICL-tTA2)  [Vip-IRES-Cre]   F   \n",
              "796251270            Ai148(TIT2L-GC6f-ICL-tTA2)  [Vip-IRES-Cre]   F   \n",
              "798126878            Ai148(TIT2L-GC6f-ICL-tTA2)  [Vip-IRES-Cre]   F   \n",
              "\n",
              "                     age_in_days      cre_line indicator  session_number  \\\n",
              "behavior_session_id                                                        \n",
              "792680306                  148.0  Vip-IRES-Cre   GCaMP6f             1.0   \n",
              "794968300                  151.0  Vip-IRES-Cre   GCaMP6f             3.0   \n",
              "795742990                  152.0  Vip-IRES-Cre   GCaMP6f             4.0   \n",
              "796052844                  153.0  Vip-IRES-Cre   GCaMP6f             5.0   \n",
              "796251270                  154.0  Vip-IRES-Cre   GCaMP6f             6.0   \n",
              "798126878                  156.0  Vip-IRES-Cre   GCaMP6f             2.0   \n",
              "\n",
              "                     prior_exposures_to_session_type  \\\n",
              "behavior_session_id                                    \n",
              "792680306                                        0.0   \n",
              "794968300                                        0.0   \n",
              "795742990                                        0.0   \n",
              "796052844                                        0.0   \n",
              "796251270                                        0.0   \n",
              "798126878                                        1.0   \n",
              "\n",
              "                     prior_exposures_to_image_set  \\\n",
              "behavior_session_id                                 \n",
              "792680306                                    19.0   \n",
              "794968300                                    21.0   \n",
              "795742990                                     0.0   \n",
              "796052844                                     1.0   \n",
              "796251270                                     2.0   \n",
              "798126878                                    22.0   \n",
              "\n",
              "                     prior_exposures_to_omissions  ophys_session_id  \\\n",
              "behavior_session_id                                                   \n",
              "792680306                                     1.0       792619807.0   \n",
              "794968300                                     3.0       794918442.0   \n",
              "795742990                                     4.0       795625712.0   \n",
              "796052844                                     5.0       796044280.0   \n",
              "796251270                                     6.0       796236521.0   \n",
              "798126878                                     7.0       798007990.0   \n",
              "\n",
              "                    ophys_experiment_id ophys_container_id    project_code  \\\n",
              "behavior_session_id                                                          \n",
              "792680306                   [792815735]        [791352433]  VisualBehavior   \n",
              "794968300                   [795073741]        [791352433]  VisualBehavior   \n",
              "795742990                   [795953296]        [791352433]  VisualBehavior   \n",
              "796052844                   [796108483]        [791352433]  VisualBehavior   \n",
              "796251270                   [796308505]        [791352433]  VisualBehavior   \n",
              "798126878                   [798404219]        [791352433]  VisualBehavior   \n",
              "\n",
              "                         date_of_acquisition              session_type  \\\n",
              "behavior_session_id                                                      \n",
              "792680306            2018-12-10 13:37:29.143          OPHYS_1_images_A   \n",
              "794968300            2018-12-13 13:33:06.390          OPHYS_3_images_A   \n",
              "795742990            2018-12-14 12:37:49.365          OPHYS_4_images_B   \n",
              "796052844            2018-12-15 13:11:14.373  OPHYS_5_images_B_passive   \n",
              "796251270            2018-12-16 13:15:04.328          OPHYS_6_images_B   \n",
              "798126878            2018-12-18 15:44:40.820  OPHYS_2_images_A_passive   \n",
              "\n",
              "                     file_id  \n",
              "behavior_session_id           \n",
              "792680306                NaN  \n",
              "794968300                NaN  \n",
              "795742990                NaN  \n",
              "796052844                NaN  \n",
              "796251270                NaN  \n",
              "798126878                NaN  "
            ],
            "text/html": [
              "\n",
              "  <div id=\"df-3678b8d9-b76e-41ee-8d9e-6016c5789902\">\n",
              "    <div class=\"colab-df-container\">\n",
              "      <div>\n",
              "<style scoped>\n",
              "    .dataframe tbody tr th:only-of-type {\n",
              "        vertical-align: middle;\n",
              "    }\n",
              "\n",
              "    .dataframe tbody tr th {\n",
              "        vertical-align: top;\n",
              "    }\n",
              "\n",
              "    .dataframe thead th {\n",
              "        text-align: right;\n",
              "    }\n",
              "</style>\n",
              "<table border=\"1\" class=\"dataframe\">\n",
              "  <thead>\n",
              "    <tr style=\"text-align: right;\">\n",
              "      <th></th>\n",
              "      <th>equipment_name</th>\n",
              "      <th>full_genotype</th>\n",
              "      <th>mouse_id</th>\n",
              "      <th>reporter_line</th>\n",
              "      <th>driver_line</th>\n",
              "      <th>sex</th>\n",
              "      <th>age_in_days</th>\n",
              "      <th>cre_line</th>\n",
              "      <th>indicator</th>\n",
              "      <th>session_number</th>\n",
              "      <th>prior_exposures_to_session_type</th>\n",
              "      <th>prior_exposures_to_image_set</th>\n",
              "      <th>prior_exposures_to_omissions</th>\n",
              "      <th>ophys_session_id</th>\n",
              "      <th>ophys_experiment_id</th>\n",
              "      <th>ophys_container_id</th>\n",
              "      <th>project_code</th>\n",
              "      <th>date_of_acquisition</th>\n",
              "      <th>session_type</th>\n",
              "      <th>file_id</th>\n",
              "    </tr>\n",
              "    <tr>\n",
              "      <th>behavior_session_id</th>\n",
              "      <th></th>\n",
              "      <th></th>\n",
              "      <th></th>\n",
              "      <th></th>\n",
              "      <th></th>\n",
              "      <th></th>\n",
              "      <th></th>\n",
              "      <th></th>\n",
              "      <th></th>\n",
              "      <th></th>\n",
              "      <th></th>\n",
              "      <th></th>\n",
              "      <th></th>\n",
              "      <th></th>\n",
              "      <th></th>\n",
              "      <th></th>\n",
              "      <th></th>\n",
              "      <th></th>\n",
              "      <th></th>\n",
              "      <th></th>\n",
              "    </tr>\n",
              "  </thead>\n",
              "  <tbody>\n",
              "    <tr>\n",
              "      <th>792680306</th>\n",
              "      <td>CAM2P.4</td>\n",
              "      <td>Vip-IRES-Cre/wt;Ai148(TIT2L-GC6f-ICL-tTA2)/wt</td>\n",
              "      <td>412036</td>\n",
              "      <td>Ai148(TIT2L-GC6f-ICL-tTA2)</td>\n",
              "      <td>[Vip-IRES-Cre]</td>\n",
              "      <td>F</td>\n",
              "      <td>148.0</td>\n",
              "      <td>Vip-IRES-Cre</td>\n",
              "      <td>GCaMP6f</td>\n",
              "      <td>1.0</td>\n",
              "      <td>0.0</td>\n",
              "      <td>19.0</td>\n",
              "      <td>1.0</td>\n",
              "      <td>792619807.0</td>\n",
              "      <td>[792815735]</td>\n",
              "      <td>[791352433]</td>\n",
              "      <td>VisualBehavior</td>\n",
              "      <td>2018-12-10 13:37:29.143</td>\n",
              "      <td>OPHYS_1_images_A</td>\n",
              "      <td>NaN</td>\n",
              "    </tr>\n",
              "    <tr>\n",
              "      <th>794968300</th>\n",
              "      <td>CAM2P.4</td>\n",
              "      <td>Vip-IRES-Cre/wt;Ai148(TIT2L-GC6f-ICL-tTA2)/wt</td>\n",
              "      <td>412036</td>\n",
              "      <td>Ai148(TIT2L-GC6f-ICL-tTA2)</td>\n",
              "      <td>[Vip-IRES-Cre]</td>\n",
              "      <td>F</td>\n",
              "      <td>151.0</td>\n",
              "      <td>Vip-IRES-Cre</td>\n",
              "      <td>GCaMP6f</td>\n",
              "      <td>3.0</td>\n",
              "      <td>0.0</td>\n",
              "      <td>21.0</td>\n",
              "      <td>3.0</td>\n",
              "      <td>794918442.0</td>\n",
              "      <td>[795073741]</td>\n",
              "      <td>[791352433]</td>\n",
              "      <td>VisualBehavior</td>\n",
              "      <td>2018-12-13 13:33:06.390</td>\n",
              "      <td>OPHYS_3_images_A</td>\n",
              "      <td>NaN</td>\n",
              "    </tr>\n",
              "    <tr>\n",
              "      <th>795742990</th>\n",
              "      <td>CAM2P.4</td>\n",
              "      <td>Vip-IRES-Cre/wt;Ai148(TIT2L-GC6f-ICL-tTA2)/wt</td>\n",
              "      <td>412036</td>\n",
              "      <td>Ai148(TIT2L-GC6f-ICL-tTA2)</td>\n",
              "      <td>[Vip-IRES-Cre]</td>\n",
              "      <td>F</td>\n",
              "      <td>152.0</td>\n",
              "      <td>Vip-IRES-Cre</td>\n",
              "      <td>GCaMP6f</td>\n",
              "      <td>4.0</td>\n",
              "      <td>0.0</td>\n",
              "      <td>0.0</td>\n",
              "      <td>4.0</td>\n",
              "      <td>795625712.0</td>\n",
              "      <td>[795953296]</td>\n",
              "      <td>[791352433]</td>\n",
              "      <td>VisualBehavior</td>\n",
              "      <td>2018-12-14 12:37:49.365</td>\n",
              "      <td>OPHYS_4_images_B</td>\n",
              "      <td>NaN</td>\n",
              "    </tr>\n",
              "    <tr>\n",
              "      <th>796052844</th>\n",
              "      <td>CAM2P.4</td>\n",
              "      <td>Vip-IRES-Cre/wt;Ai148(TIT2L-GC6f-ICL-tTA2)/wt</td>\n",
              "      <td>412036</td>\n",
              "      <td>Ai148(TIT2L-GC6f-ICL-tTA2)</td>\n",
              "      <td>[Vip-IRES-Cre]</td>\n",
              "      <td>F</td>\n",
              "      <td>153.0</td>\n",
              "      <td>Vip-IRES-Cre</td>\n",
              "      <td>GCaMP6f</td>\n",
              "      <td>5.0</td>\n",
              "      <td>0.0</td>\n",
              "      <td>1.0</td>\n",
              "      <td>5.0</td>\n",
              "      <td>796044280.0</td>\n",
              "      <td>[796108483]</td>\n",
              "      <td>[791352433]</td>\n",
              "      <td>VisualBehavior</td>\n",
              "      <td>2018-12-15 13:11:14.373</td>\n",
              "      <td>OPHYS_5_images_B_passive</td>\n",
              "      <td>NaN</td>\n",
              "    </tr>\n",
              "    <tr>\n",
              "      <th>796251270</th>\n",
              "      <td>CAM2P.4</td>\n",
              "      <td>Vip-IRES-Cre/wt;Ai148(TIT2L-GC6f-ICL-tTA2)/wt</td>\n",
              "      <td>412036</td>\n",
              "      <td>Ai148(TIT2L-GC6f-ICL-tTA2)</td>\n",
              "      <td>[Vip-IRES-Cre]</td>\n",
              "      <td>F</td>\n",
              "      <td>154.0</td>\n",
              "      <td>Vip-IRES-Cre</td>\n",
              "      <td>GCaMP6f</td>\n",
              "      <td>6.0</td>\n",
              "      <td>0.0</td>\n",
              "      <td>2.0</td>\n",
              "      <td>6.0</td>\n",
              "      <td>796236521.0</td>\n",
              "      <td>[796308505]</td>\n",
              "      <td>[791352433]</td>\n",
              "      <td>VisualBehavior</td>\n",
              "      <td>2018-12-16 13:15:04.328</td>\n",
              "      <td>OPHYS_6_images_B</td>\n",
              "      <td>NaN</td>\n",
              "    </tr>\n",
              "    <tr>\n",
              "      <th>798126878</th>\n",
              "      <td>CAM2P.4</td>\n",
              "      <td>Vip-IRES-Cre/wt;Ai148(TIT2L-GC6f-ICL-tTA2)/wt</td>\n",
              "      <td>412036</td>\n",
              "      <td>Ai148(TIT2L-GC6f-ICL-tTA2)</td>\n",
              "      <td>[Vip-IRES-Cre]</td>\n",
              "      <td>F</td>\n",
              "      <td>156.0</td>\n",
              "      <td>Vip-IRES-Cre</td>\n",
              "      <td>GCaMP6f</td>\n",
              "      <td>2.0</td>\n",
              "      <td>1.0</td>\n",
              "      <td>22.0</td>\n",
              "      <td>7.0</td>\n",
              "      <td>798007990.0</td>\n",
              "      <td>[798404219]</td>\n",
              "      <td>[791352433]</td>\n",
              "      <td>VisualBehavior</td>\n",
              "      <td>2018-12-18 15:44:40.820</td>\n",
              "      <td>OPHYS_2_images_A_passive</td>\n",
              "      <td>NaN</td>\n",
              "    </tr>\n",
              "  </tbody>\n",
              "</table>\n",
              "</div>\n",
              "      <button class=\"colab-df-convert\" onclick=\"convertToInteractive('df-3678b8d9-b76e-41ee-8d9e-6016c5789902')\"\n",
              "              title=\"Convert this dataframe to an interactive table.\"\n",
              "              style=\"display:none;\">\n",
              "        \n",
              "  <svg xmlns=\"http://www.w3.org/2000/svg\" height=\"24px\"viewBox=\"0 0 24 24\"\n",
              "       width=\"24px\">\n",
              "    <path d=\"M0 0h24v24H0V0z\" fill=\"none\"/>\n",
              "    <path d=\"M18.56 5.44l.94 2.06.94-2.06 2.06-.94-2.06-.94-.94-2.06-.94 2.06-2.06.94zm-11 1L8.5 8.5l.94-2.06 2.06-.94-2.06-.94L8.5 2.5l-.94 2.06-2.06.94zm10 10l.94 2.06.94-2.06 2.06-.94-2.06-.94-.94-2.06-.94 2.06-2.06.94z\"/><path d=\"M17.41 7.96l-1.37-1.37c-.4-.4-.92-.59-1.43-.59-.52 0-1.04.2-1.43.59L10.3 9.45l-7.72 7.72c-.78.78-.78 2.05 0 2.83L4 21.41c.39.39.9.59 1.41.59.51 0 1.02-.2 1.41-.59l7.78-7.78 2.81-2.81c.8-.78.8-2.07 0-2.86zM5.41 20L4 18.59l7.72-7.72 1.47 1.35L5.41 20z\"/>\n",
              "  </svg>\n",
              "      </button>\n",
              "      \n",
              "  <style>\n",
              "    .colab-df-container {\n",
              "      display:flex;\n",
              "      flex-wrap:wrap;\n",
              "      gap: 12px;\n",
              "    }\n",
              "\n",
              "    .colab-df-convert {\n",
              "      background-color: #E8F0FE;\n",
              "      border: none;\n",
              "      border-radius: 50%;\n",
              "      cursor: pointer;\n",
              "      display: none;\n",
              "      fill: #1967D2;\n",
              "      height: 32px;\n",
              "      padding: 0 0 0 0;\n",
              "      width: 32px;\n",
              "    }\n",
              "\n",
              "    .colab-df-convert:hover {\n",
              "      background-color: #E2EBFA;\n",
              "      box-shadow: 0px 1px 2px rgba(60, 64, 67, 0.3), 0px 1px 3px 1px rgba(60, 64, 67, 0.15);\n",
              "      fill: #174EA6;\n",
              "    }\n",
              "\n",
              "    [theme=dark] .colab-df-convert {\n",
              "      background-color: #3B4455;\n",
              "      fill: #D2E3FC;\n",
              "    }\n",
              "\n",
              "    [theme=dark] .colab-df-convert:hover {\n",
              "      background-color: #434B5C;\n",
              "      box-shadow: 0px 1px 3px 1px rgba(0, 0, 0, 0.15);\n",
              "      filter: drop-shadow(0px 1px 2px rgba(0, 0, 0, 0.3));\n",
              "      fill: #FFFFFF;\n",
              "    }\n",
              "  </style>\n",
              "\n",
              "      <script>\n",
              "        const buttonEl =\n",
              "          document.querySelector('#df-3678b8d9-b76e-41ee-8d9e-6016c5789902 button.colab-df-convert');\n",
              "        buttonEl.style.display =\n",
              "          google.colab.kernel.accessAllowed ? 'block' : 'none';\n",
              "\n",
              "        async function convertToInteractive(key) {\n",
              "          const element = document.querySelector('#df-3678b8d9-b76e-41ee-8d9e-6016c5789902');\n",
              "          const dataTable =\n",
              "            await google.colab.kernel.invokeFunction('convertToInteractive',\n",
              "                                                     [key], {});\n",
              "          if (!dataTable) return;\n",
              "\n",
              "          const docLinkHtml = 'Like what you see? Visit the ' +\n",
              "            '<a target=\"_blank\" href=https://colab.research.google.com/notebooks/data_table.ipynb>data table notebook</a>'\n",
              "            + ' to learn more about interactive tables.';\n",
              "          element.innerHTML = '';\n",
              "          dataTable['output_type'] = 'display_data';\n",
              "          await google.colab.output.renderOutput(dataTable, element);\n",
              "          const docLink = document.createElement('div');\n",
              "          docLink.innerHTML = docLinkHtml;\n",
              "          element.appendChild(docLink);\n",
              "        }\n",
              "      </script>\n",
              "    </div>\n",
              "  </div>\n",
              "  "
            ]
          },
          "metadata": {},
          "execution_count": 11
        }
      ]
    },
    {
      "cell_type": "markdown",
      "source": [
        "For this specific Vip mouse we have six imaging session sorted by data of aquisition. In `session_type` column it can be seen what type of image was presented and what kind of task (active or passive ) was performed. \n",
        "In the next cell we want to compare the neural response around stimulus omittion during active and passive task."
      ],
      "metadata": {
        "id": "tf-2Tl-1yGTZ"
      }
    },
    {
      "cell_type": "code",
      "source": [
        ""
      ],
      "metadata": {
        "id": "aPNhDFKoUaYk"
      },
      "execution_count": null,
      "outputs": []
    },
    {
      "cell_type": "code",
      "source": [
        "#Just a code that might help later on\n",
        "#M='M'\n",
        "#behavior_table.query('sex == @ M')\n",
        "#This way we can specifically ask for the data containing these parameters. the mouse only being male (which is better since female mices' results aren't as reliable)"
      ],
      "metadata": {
        "id": "6kE0ksTJ5niX"
      },
      "execution_count": null,
      "outputs": []
    }
  ]
}