{
  "nbformat": 4,
  "nbformat_minor": 0,
  "metadata": {
    "colab": {
      "name": " Coding_Exercise.ipynb",
      "provenance": [],
      "collapsed_sections": [],
      "toc_visible": true,
      "mount_file_id": "1_nWlKBEh-n_I2v7ZYLzCrWPIWRk50tEI",
      "authorship_tag": "ABX9TyPGk8XOVhnK3uVHNuYMSb/t",
      "include_colab_link": true
    },
    "kernelspec": {
      "name": "python3",
      "display_name": "Python 3"
    },
    "language_info": {
      "name": "python"
    }
  },
  "cells": [
    {
      "cell_type": "markdown",
      "metadata": {
        "id": "view-in-github",
        "colab_type": "text"
      },
      "source": [
        "<a href=\"https://colab.research.google.com/github/miladqolamee/NeuroMatch_2022_group_project/blob/main/Coding_Exercise.ipynb\" target=\"_parent\"><img src=\"https://colab.research.google.com/assets/colab-badge.svg\" alt=\"Open In Colab\"/></a>"
      ]
    },
    {
      "cell_type": "markdown",
      "source": [
        "# This notebook is created for exploratory data analysis on Allen 2P dataset by **Pierogi All Stras** "
      ],
      "metadata": {
        "id": "saVvx9tIOkce"
      }
    },
    {
      "cell_type": "markdown",
      "source": [
        "---\n",
        "# A brief summary of Allen 2P Experiment Design\n",
        "\n",
        "\n",
        "- Single and multiple-plane 2 photon calcium imaging was used.\n",
        "- Exitatory and inhibitory populaiton of nuerons were imaged in different cre-lines.\n",
        "- Each population was imaged over multiple days and under different experimental conditions (with familiar, novel stimuli and under active and passive veiwing conditions)\n",
        "- This dataset can be used to evaluate the influence of experience, expectation and task engagemen on neural coding and dynamics.\n",
        "- Overal, we have 82 mouse, 3021 behavioral sessions and 551 imaging sessions. In total 34619 cells were recorded.\n",
        "- Mice performed a go/no go visual change detection task. Visual stimui were presented continuously for 1 hour. The start of trial was not indicated and mouse was free to run.\n",
        "\n",
        "For more information see:\n",
        "[Link](https://allensdk.readthedocs.io/en/latest/visual_behavior_optical_physiology.html)."
      ],
      "metadata": {
        "id": "Mw6OPsSUP2LV"
      }
    },
    {
      "cell_type": "markdown",
      "source": [
        "# Experimental setup \n",
        "\n",
        "<img src=\"https://github.com/miladqolamee/NeuroMatch_2022_group_project/blob/main/Allen%20viewing%20condition.png?raw=1\" alt=\"Experimental setup\" class=\"bg-primary\" width=\"75%\">"
      ],
      "metadata": {
        "id": "KxXfYM_ZZzYE"
      }
    },
    {
      "cell_type": "markdown",
      "source": [
        "---\n",
        "# A brief summary of Allen 2P Dataset\n",
        "To access data in the dataset we can instal `allensdk` package. By using `AllenBehaviorOphysProjectCache` object and its methods in this package we can access desired data. \n",
        "\n",
        "In the dataset we have 3 tables and 2 datasets streams. We should use informatin inside the table to extract our desired subset of information. These 3 tables are:\n",
        "\n",
        "1) Behavior Sessions Table: Contains metadata for behavioral sessions (both trianing session and also sessions whcih imaging was perfomed). This table can be accessed by `get_behavior_session_talbe()` method.\n",
        "\n",
        "2) Ophys Sessions Table: Contains metadata and experimental conditions for all sessions. This talbe can accessed by `get_ophys_session_table()` method.\n",
        "\n",
        "3) Ophys Experiments Table: Contains metadata and experimental conditions fo all imaging experiment (aka imaging plane). This table can be accessed by `get_experiment_session_table()` method.\n",
        "\n",
        "For more information see:\n",
        "[Link](https://github.com/miladqolamee/NeuroMatch_2022_group_project/blob/main/VBP_WhitePaper_SDK_Documentation.pdf)."
      ],
      "metadata": {
        "id": "hYL3XIrqN4ey"
      }
    },
    {
      "cell_type": "markdown",
      "source": [
        "# Allen 2P dataset terminology\n",
        "\n",
        "<img src=\"https://allensdk.readthedocs.io/en/latest/_static/visual_behavior_2p/data_structure.png\" alt=\"dataset terminology\" class=\"bg-primary\" width=\"100%\">"
      ],
      "metadata": {
        "id": "6-8hARAR0yCz"
      }
    },
    {
      "cell_type": "markdown",
      "source": [
        ""
      ],
      "metadata": {
        "id": "8Bi43yH6zuJ2"
      }
    },
    {
      "cell_type": "markdown",
      "source": [
        "---\n",
        "# First instal and upgrade allensdk package"
      ],
      "metadata": {
        "id": "EYmrOD6DOWbM"
      }
    },
    {
      "cell_type": "code",
      "source": [
        "# @title Instal allensdk package\n",
        "# @markdown Run this cell and then restart the Runtime.\n",
        "\n",
        "# @markdown After running this cell for the first time you don't nee to rerun it.\n",
        "pip install allensdk"
      ],
      "metadata": {
        "cellView": "form",
        "id": "IxBHK3ZQORRj"
      },
      "execution_count": null,
      "outputs": []
    },
    {
      "cell_type": "code",
      "execution_count": null,
      "metadata": {
        "cellView": "form",
        "id": "ObAPF2m2MIxl"
      },
      "outputs": [],
      "source": [
        "# @title Upgrade the package\n",
        "!pip install --upgrade pip\n",
        "!pip install allensdk\n"
      ]
    },
    {
      "cell_type": "code",
      "source": [
        "# @title Improt relevant packages\n",
        "import numpy as np\n",
        "import pandas as pd\n",
        "from pathlib import Path\n",
        "import math\n",
        "\n",
        "import allensdk\n",
        "from allensdk.brain_observatory.behavior.behavior_project_cache import VisualBehaviorOphysProjectCache"
      ],
      "metadata": {
        "id": "9a4-IjIfOIRy",
        "cellView": "form"
      },
      "execution_count": null,
      "outputs": []
    },
    {
      "cell_type": "markdown",
      "source": [
        "## First we need a file path because we need to pass it to cache object to indicate where the file should be downloaded\n",
        "\n",
        "## By calling `VisualBehaviorOphysProjectCache`, Tables will be downloaded"
      ],
      "metadata": {
        "id": "kCmH5Ia4qB2i"
      }
    },
    {
      "cell_type": "code",
      "execution_count": null,
      "metadata": {
        "id": "rjIk48eVpiWH"
      },
      "outputs": [],
      "source": [
        "# Update this to a valid directory in your filesystem\n",
        "data_storage_directory = Path(\"/local1/visual_behavior_ophys_cache_dir\")\n",
        "\n",
        "cache = VisualBehaviorOphysProjectCache.from_s3_cache(cache_dir=data_storage_directory)"
      ]
    },
    {
      "cell_type": "markdown",
      "source": [
        "## Behavior Sessions Table"
      ],
      "metadata": {
        "id": "AlpIi1DkuKBQ"
      }
    },
    {
      "cell_type": "code",
      "source": [
        "behavior_table = cache.get_behavior_session_table()   # Getting Behavior Session Table\n",
        "behavior_table.sample(5)                              # Show 5 random observation\n",
        "print(len(behavior_table))                            # How many rows?\n",
        "print(len(behavior_table.ophys_session_id.unique()))  # How many unique imaging session"
      ],
      "metadata": {
        "colab": {
          "base_uri": "https://localhost:8080/",
          "height": 544
        },
        "id": "ICQkz8xFuXgl",
        "outputId": "ccfdd7fa-f7cc-42ab-dbfa-fbdee0748bcd"
      },
      "execution_count": null,
      "outputs": [
        {
          "output_type": "execute_result",
          "data": {
            "text/plain": [
              "                    equipment_name  \\\n",
              "behavior_session_id                  \n",
              "889478282               BEH.F-Box1   \n",
              "1058072139                 CAM2P.3   \n",
              "919731225                  CAM2P.5   \n",
              "890033129                  CAM2P.5   \n",
              "1033613834              BEH.G-Box4   \n",
              "\n",
              "                                                         full_genotype  \\\n",
              "behavior_session_id                                                      \n",
              "889478282            Slc17a7-IRES2-Cre/wt;Camk2a-tTA/wt;Ai93(TITL-G...   \n",
              "1058072139           Slc17a7-IRES2-Cre/wt;Camk2a-tTA/wt;Ai93(TITL-G...   \n",
              "919731225            Slc17a7-IRES2-Cre/wt;Camk2a-tTA/wt;Ai93(TITL-G...   \n",
              "890033129            Slc17a7-IRES2-Cre/wt;Camk2a-tTA/wt;Ai93(TITL-G...   \n",
              "1033613834               Sst-IRES-Cre/wt;Ai148(TIT2L-GC6f-ICL-tTA2)/wt   \n",
              "\n",
              "                     mouse_id               reporter_line  \\\n",
              "behavior_session_id                                         \n",
              "889478282              461946          Ai93(TITL-GCaMP6f)   \n",
              "1058072139             539517          Ai93(TITL-GCaMP6f)   \n",
              "919731225              464204          Ai93(TITL-GCaMP6f)   \n",
              "890033129              456916          Ai93(TITL-GCaMP6f)   \n",
              "1033613834             524158  Ai148(TIT2L-GC6f-ICL-tTA2)   \n",
              "\n",
              "                                         driver_line sex  age_in_days  \\\n",
              "behavior_session_id                                                     \n",
              "889478282            [Slc17a7-IRES2-Cre, Camk2a-tTA]   F         91.0   \n",
              "1058072139           [Slc17a7-IRES2-Cre, Camk2a-tTA]   M        122.0   \n",
              "919731225            [Slc17a7-IRES2-Cre, Camk2a-tTA]   F        132.0   \n",
              "890033129            [Slc17a7-IRES2-Cre, Camk2a-tTA]   F        118.0   \n",
              "1033613834                            [Sst-IRES-Cre]   M        106.0   \n",
              "\n",
              "                              cre_line indicator  session_number  \\\n",
              "behavior_session_id                                                \n",
              "889478282            Slc17a7-IRES2-Cre   GCaMP6f             NaN   \n",
              "1058072139           Slc17a7-IRES2-Cre   GCaMP6f             4.0   \n",
              "919731225            Slc17a7-IRES2-Cre   GCaMP6f             4.0   \n",
              "890033129            Slc17a7-IRES2-Cre   GCaMP6f             2.0   \n",
              "1033613834                Sst-IRES-Cre   GCaMP6f             NaN   \n",
              "\n",
              "                     prior_exposures_to_session_type  \\\n",
              "behavior_session_id                                    \n",
              "889478282                                        1.0   \n",
              "1058072139                                       1.0   \n",
              "919731225                                        0.0   \n",
              "890033129                                        0.0   \n",
              "1033613834                                       0.0   \n",
              "\n",
              "                     prior_exposures_to_image_set  \\\n",
              "behavior_session_id                                 \n",
              "889478282                                     1.0   \n",
              "1058072139                                    2.0   \n",
              "919731225                                     0.0   \n",
              "890033129                                    14.0   \n",
              "1033613834                                    0.0   \n",
              "\n",
              "                     prior_exposures_to_omissions  ophys_session_id  \\\n",
              "behavior_session_id                                                   \n",
              "889478282                                     0.0               NaN   \n",
              "1058072139                                    9.0      1.058059e+09   \n",
              "919731225                                     4.0               NaN   \n",
              "890033129                                     1.0      8.899182e+08   \n",
              "1033613834                                    0.0               NaN   \n",
              "\n",
              "                    ophys_experiment_id ophys_container_id  \\\n",
              "behavior_session_id                                          \n",
              "889478282                           NaN                NaN   \n",
              "1058072139                 [1058275574]       [1054675423]   \n",
              "919731225                           NaN                NaN   \n",
              "890033129                   [891052180]        [890047007]   \n",
              "1033613834                          NaN                NaN   \n",
              "\n",
              "                             project_code      date_of_acquisition  \\\n",
              "behavior_session_id                                                  \n",
              "889478282                             NaN  2019-06-18 13:08:56.442   \n",
              "1058072139           VisualBehaviorTask1B  2020-10-21 09:38:19.717   \n",
              "919731225                             NaN  2019-08-08 10:38:33.320   \n",
              "890033129                  VisualBehavior  2019-06-19 09:20:11.799   \n",
              "1033613834                            NaN  2020-07-01 12:55:43.296   \n",
              "\n",
              "                                        session_type       file_id  \n",
              "behavior_session_id                                                 \n",
              "889478282            TRAINING_3_images_B_10uL_reward  1.081637e+09  \n",
              "1058072139                          OPHYS_4_images_A           NaN  \n",
              "919731225                           OPHYS_4_images_A  1.081715e+09  \n",
              "890033129                   OPHYS_2_images_A_passive           NaN  \n",
              "1033613834           TRAINING_3_images_G_10uL_reward  1.120008e+09  "
            ],
            "text/html": [
              "\n",
              "  <div id=\"df-b5bc0edc-78f3-4ee4-b2cf-29b1f3a63f84\">\n",
              "    <div class=\"colab-df-container\">\n",
              "      <div>\n",
              "<style scoped>\n",
              "    .dataframe tbody tr th:only-of-type {\n",
              "        vertical-align: middle;\n",
              "    }\n",
              "\n",
              "    .dataframe tbody tr th {\n",
              "        vertical-align: top;\n",
              "    }\n",
              "\n",
              "    .dataframe thead th {\n",
              "        text-align: right;\n",
              "    }\n",
              "</style>\n",
              "<table border=\"1\" class=\"dataframe\">\n",
              "  <thead>\n",
              "    <tr style=\"text-align: right;\">\n",
              "      <th></th>\n",
              "      <th>equipment_name</th>\n",
              "      <th>full_genotype</th>\n",
              "      <th>mouse_id</th>\n",
              "      <th>reporter_line</th>\n",
              "      <th>driver_line</th>\n",
              "      <th>sex</th>\n",
              "      <th>age_in_days</th>\n",
              "      <th>cre_line</th>\n",
              "      <th>indicator</th>\n",
              "      <th>session_number</th>\n",
              "      <th>prior_exposures_to_session_type</th>\n",
              "      <th>prior_exposures_to_image_set</th>\n",
              "      <th>prior_exposures_to_omissions</th>\n",
              "      <th>ophys_session_id</th>\n",
              "      <th>ophys_experiment_id</th>\n",
              "      <th>ophys_container_id</th>\n",
              "      <th>project_code</th>\n",
              "      <th>date_of_acquisition</th>\n",
              "      <th>session_type</th>\n",
              "      <th>file_id</th>\n",
              "    </tr>\n",
              "    <tr>\n",
              "      <th>behavior_session_id</th>\n",
              "      <th></th>\n",
              "      <th></th>\n",
              "      <th></th>\n",
              "      <th></th>\n",
              "      <th></th>\n",
              "      <th></th>\n",
              "      <th></th>\n",
              "      <th></th>\n",
              "      <th></th>\n",
              "      <th></th>\n",
              "      <th></th>\n",
              "      <th></th>\n",
              "      <th></th>\n",
              "      <th></th>\n",
              "      <th></th>\n",
              "      <th></th>\n",
              "      <th></th>\n",
              "      <th></th>\n",
              "      <th></th>\n",
              "      <th></th>\n",
              "    </tr>\n",
              "  </thead>\n",
              "  <tbody>\n",
              "    <tr>\n",
              "      <th>889478282</th>\n",
              "      <td>BEH.F-Box1</td>\n",
              "      <td>Slc17a7-IRES2-Cre/wt;Camk2a-tTA/wt;Ai93(TITL-G...</td>\n",
              "      <td>461946</td>\n",
              "      <td>Ai93(TITL-GCaMP6f)</td>\n",
              "      <td>[Slc17a7-IRES2-Cre, Camk2a-tTA]</td>\n",
              "      <td>F</td>\n",
              "      <td>91.0</td>\n",
              "      <td>Slc17a7-IRES2-Cre</td>\n",
              "      <td>GCaMP6f</td>\n",
              "      <td>NaN</td>\n",
              "      <td>1.0</td>\n",
              "      <td>1.0</td>\n",
              "      <td>0.0</td>\n",
              "      <td>NaN</td>\n",
              "      <td>NaN</td>\n",
              "      <td>NaN</td>\n",
              "      <td>NaN</td>\n",
              "      <td>2019-06-18 13:08:56.442</td>\n",
              "      <td>TRAINING_3_images_B_10uL_reward</td>\n",
              "      <td>1.081637e+09</td>\n",
              "    </tr>\n",
              "    <tr>\n",
              "      <th>1058072139</th>\n",
              "      <td>CAM2P.3</td>\n",
              "      <td>Slc17a7-IRES2-Cre/wt;Camk2a-tTA/wt;Ai93(TITL-G...</td>\n",
              "      <td>539517</td>\n",
              "      <td>Ai93(TITL-GCaMP6f)</td>\n",
              "      <td>[Slc17a7-IRES2-Cre, Camk2a-tTA]</td>\n",
              "      <td>M</td>\n",
              "      <td>122.0</td>\n",
              "      <td>Slc17a7-IRES2-Cre</td>\n",
              "      <td>GCaMP6f</td>\n",
              "      <td>4.0</td>\n",
              "      <td>1.0</td>\n",
              "      <td>2.0</td>\n",
              "      <td>9.0</td>\n",
              "      <td>1.058059e+09</td>\n",
              "      <td>[1058275574]</td>\n",
              "      <td>[1054675423]</td>\n",
              "      <td>VisualBehaviorTask1B</td>\n",
              "      <td>2020-10-21 09:38:19.717</td>\n",
              "      <td>OPHYS_4_images_A</td>\n",
              "      <td>NaN</td>\n",
              "    </tr>\n",
              "    <tr>\n",
              "      <th>919731225</th>\n",
              "      <td>CAM2P.5</td>\n",
              "      <td>Slc17a7-IRES2-Cre/wt;Camk2a-tTA/wt;Ai93(TITL-G...</td>\n",
              "      <td>464204</td>\n",
              "      <td>Ai93(TITL-GCaMP6f)</td>\n",
              "      <td>[Slc17a7-IRES2-Cre, Camk2a-tTA]</td>\n",
              "      <td>F</td>\n",
              "      <td>132.0</td>\n",
              "      <td>Slc17a7-IRES2-Cre</td>\n",
              "      <td>GCaMP6f</td>\n",
              "      <td>4.0</td>\n",
              "      <td>0.0</td>\n",
              "      <td>0.0</td>\n",
              "      <td>4.0</td>\n",
              "      <td>NaN</td>\n",
              "      <td>NaN</td>\n",
              "      <td>NaN</td>\n",
              "      <td>NaN</td>\n",
              "      <td>2019-08-08 10:38:33.320</td>\n",
              "      <td>OPHYS_4_images_A</td>\n",
              "      <td>1.081715e+09</td>\n",
              "    </tr>\n",
              "    <tr>\n",
              "      <th>890033129</th>\n",
              "      <td>CAM2P.5</td>\n",
              "      <td>Slc17a7-IRES2-Cre/wt;Camk2a-tTA/wt;Ai93(TITL-G...</td>\n",
              "      <td>456916</td>\n",
              "      <td>Ai93(TITL-GCaMP6f)</td>\n",
              "      <td>[Slc17a7-IRES2-Cre, Camk2a-tTA]</td>\n",
              "      <td>F</td>\n",
              "      <td>118.0</td>\n",
              "      <td>Slc17a7-IRES2-Cre</td>\n",
              "      <td>GCaMP6f</td>\n",
              "      <td>2.0</td>\n",
              "      <td>0.0</td>\n",
              "      <td>14.0</td>\n",
              "      <td>1.0</td>\n",
              "      <td>8.899182e+08</td>\n",
              "      <td>[891052180]</td>\n",
              "      <td>[890047007]</td>\n",
              "      <td>VisualBehavior</td>\n",
              "      <td>2019-06-19 09:20:11.799</td>\n",
              "      <td>OPHYS_2_images_A_passive</td>\n",
              "      <td>NaN</td>\n",
              "    </tr>\n",
              "    <tr>\n",
              "      <th>1033613834</th>\n",
              "      <td>BEH.G-Box4</td>\n",
              "      <td>Sst-IRES-Cre/wt;Ai148(TIT2L-GC6f-ICL-tTA2)/wt</td>\n",
              "      <td>524158</td>\n",
              "      <td>Ai148(TIT2L-GC6f-ICL-tTA2)</td>\n",
              "      <td>[Sst-IRES-Cre]</td>\n",
              "      <td>M</td>\n",
              "      <td>106.0</td>\n",
              "      <td>Sst-IRES-Cre</td>\n",
              "      <td>GCaMP6f</td>\n",
              "      <td>NaN</td>\n",
              "      <td>0.0</td>\n",
              "      <td>0.0</td>\n",
              "      <td>0.0</td>\n",
              "      <td>NaN</td>\n",
              "      <td>NaN</td>\n",
              "      <td>NaN</td>\n",
              "      <td>NaN</td>\n",
              "      <td>2020-07-01 12:55:43.296</td>\n",
              "      <td>TRAINING_3_images_G_10uL_reward</td>\n",
              "      <td>1.120008e+09</td>\n",
              "    </tr>\n",
              "  </tbody>\n",
              "</table>\n",
              "</div>\n",
              "      <button class=\"colab-df-convert\" onclick=\"convertToInteractive('df-b5bc0edc-78f3-4ee4-b2cf-29b1f3a63f84')\"\n",
              "              title=\"Convert this dataframe to an interactive table.\"\n",
              "              style=\"display:none;\">\n",
              "        \n",
              "  <svg xmlns=\"http://www.w3.org/2000/svg\" height=\"24px\"viewBox=\"0 0 24 24\"\n",
              "       width=\"24px\">\n",
              "    <path d=\"M0 0h24v24H0V0z\" fill=\"none\"/>\n",
              "    <path d=\"M18.56 5.44l.94 2.06.94-2.06 2.06-.94-2.06-.94-.94-2.06-.94 2.06-2.06.94zm-11 1L8.5 8.5l.94-2.06 2.06-.94-2.06-.94L8.5 2.5l-.94 2.06-2.06.94zm10 10l.94 2.06.94-2.06 2.06-.94-2.06-.94-.94-2.06-.94 2.06-2.06.94z\"/><path d=\"M17.41 7.96l-1.37-1.37c-.4-.4-.92-.59-1.43-.59-.52 0-1.04.2-1.43.59L10.3 9.45l-7.72 7.72c-.78.78-.78 2.05 0 2.83L4 21.41c.39.39.9.59 1.41.59.51 0 1.02-.2 1.41-.59l7.78-7.78 2.81-2.81c.8-.78.8-2.07 0-2.86zM5.41 20L4 18.59l7.72-7.72 1.47 1.35L5.41 20z\"/>\n",
              "  </svg>\n",
              "      </button>\n",
              "      \n",
              "  <style>\n",
              "    .colab-df-container {\n",
              "      display:flex;\n",
              "      flex-wrap:wrap;\n",
              "      gap: 12px;\n",
              "    }\n",
              "\n",
              "    .colab-df-convert {\n",
              "      background-color: #E8F0FE;\n",
              "      border: none;\n",
              "      border-radius: 50%;\n",
              "      cursor: pointer;\n",
              "      display: none;\n",
              "      fill: #1967D2;\n",
              "      height: 32px;\n",
              "      padding: 0 0 0 0;\n",
              "      width: 32px;\n",
              "    }\n",
              "\n",
              "    .colab-df-convert:hover {\n",
              "      background-color: #E2EBFA;\n",
              "      box-shadow: 0px 1px 2px rgba(60, 64, 67, 0.3), 0px 1px 3px 1px rgba(60, 64, 67, 0.15);\n",
              "      fill: #174EA6;\n",
              "    }\n",
              "\n",
              "    [theme=dark] .colab-df-convert {\n",
              "      background-color: #3B4455;\n",
              "      fill: #D2E3FC;\n",
              "    }\n",
              "\n",
              "    [theme=dark] .colab-df-convert:hover {\n",
              "      background-color: #434B5C;\n",
              "      box-shadow: 0px 1px 3px 1px rgba(0, 0, 0, 0.15);\n",
              "      filter: drop-shadow(0px 1px 2px rgba(0, 0, 0, 0.3));\n",
              "      fill: #FFFFFF;\n",
              "    }\n",
              "  </style>\n",
              "\n",
              "      <script>\n",
              "        const buttonEl =\n",
              "          document.querySelector('#df-b5bc0edc-78f3-4ee4-b2cf-29b1f3a63f84 button.colab-df-convert');\n",
              "        buttonEl.style.display =\n",
              "          google.colab.kernel.accessAllowed ? 'block' : 'none';\n",
              "\n",
              "        async function convertToInteractive(key) {\n",
              "          const element = document.querySelector('#df-b5bc0edc-78f3-4ee4-b2cf-29b1f3a63f84');\n",
              "          const dataTable =\n",
              "            await google.colab.kernel.invokeFunction('convertToInteractive',\n",
              "                                                     [key], {});\n",
              "          if (!dataTable) return;\n",
              "\n",
              "          const docLinkHtml = 'Like what you see? Visit the ' +\n",
              "            '<a target=\"_blank\" href=https://colab.research.google.com/notebooks/data_table.ipynb>data table notebook</a>'\n",
              "            + ' to learn more about interactive tables.';\n",
              "          element.innerHTML = '';\n",
              "          dataTable['output_type'] = 'display_data';\n",
              "          await google.colab.output.renderOutput(dataTable, element);\n",
              "          const docLink = document.createElement('div');\n",
              "          docLink.innerHTML = docLinkHtml;\n",
              "          element.appendChild(docLink);\n",
              "        }\n",
              "      </script>\n",
              "    </div>\n",
              "  </div>\n",
              "  "
            ]
          },
          "metadata": {},
          "execution_count": 28
        }
      ]
    },
    {
      "cell_type": "markdown",
      "source": [
        "## Selecting a mouse and and extracting a single imaging experiment for that mouse "
      ],
      "metadata": {
        "id": "8JCN5BCBzXwa"
      }
    }
  ]
}