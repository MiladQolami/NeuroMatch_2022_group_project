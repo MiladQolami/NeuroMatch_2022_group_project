{
  "nbformat": 4,
  "nbformat_minor": 0,
  "metadata": {
    "colab": {
      "name": " Coding_Exercise.ipynb",
      "provenance": [],
      "collapsed_sections": [],
      "include_colab_link": true
    },
    "kernelspec": {
      "name": "python3",
      "display_name": "Python 3"
    },
    "language_info": {
      "name": "python"
    }
  },
  "cells": [
    {
      "cell_type": "markdown",
      "metadata": {
        "id": "view-in-github",
        "colab_type": "text"
      },
      "source": [
        "<a href=\"https://colab.research.google.com/github/miladqolamee/NeuroMatch_2022_group_project/blob/main/Coding_Exercise.ipynb\" target=\"_parent\"><img src=\"https://colab.research.google.com/assets/colab-badge.svg\" alt=\"Open In Colab\"/></a>"
      ]
    },
    {
      "cell_type": "markdown",
      "source": [
        "# This notebook is created for exploratory data analysis on Allen 2P dataset by **Pierogi All Stras** "
      ],
      "metadata": {
        "id": "saVvx9tIOkce"
      }
    },
    {
      "cell_type": "markdown",
      "source": [
        "---\n",
        "# A brief summary of Allen 2P Experiment Design\n",
        "\n",
        "\n",
        "- Single and multiple-plane 2 photon calcium imaging was used.\n",
        "- Exitatory and inhibitory populaiton of nuerons were imaged in different cre-lines.\n",
        "- Each population was imaged over multiple days and under different experimental conditions (with familiar, novel stimuli and under active and passive veiwing conditions)\n",
        "- This dataset can be used to evaluate the influence of experience, expectation and task engagemen on neural coding and dynamics.\n",
        "- Overal, we have 82 mouse, 3021 behavioral sessions and 551 imaging sessions. In total 34619 cells were recorded.\n",
        "- Mice performed a go/no go visual change detection task. Visual stimui were presented continuously for 1 hour. The start of trial was not indicated and mouse was free to run.\n",
        "\n",
        "For more information see:\n",
        "[Link](https://allensdk.readthedocs.io/en/latest/visual_behavior_optical_physiology.html)."
      ],
      "metadata": {
        "id": "Mw6OPsSUP2LV"
      }
    },
    {
      "cell_type": "markdown",
      "source": [
        "# Experimental setup \n",
        "\n",
        "<img src=\"https://github.com/miladqolamee/NeuroMatch_2022_group_project/blob/main/Allen%20viewing%20condition.png?raw=1\" alt=\"Experimental setup\" class=\"bg-primary\" width=\"75%\">"
      ],
      "metadata": {
        "id": "KxXfYM_ZZzYE"
      }
    },
    {
      "cell_type": "markdown",
      "source": [
        "---\n",
        "# A brief summary of Allen 2P Dataset\n",
        "To access data in the dataset we can instal `allensdk` package. By using `AllenBehaviorOphysProjectCache` object and its methods in this package we can access desired data. \n",
        "\n",
        "In the dataset we have 3 tables and 2 datasets streams. We should use informatin inside the table to extract our desired subset of information. These 3 tables are:\n",
        "\n",
        "1) Behavior Sessions Table: Contains metadata for behavioral sessions (both trianing session and also sessions whcih imaging was perfomed). This table can be accessed by `get_behavior_session_talbe()` method.\n",
        "\n",
        "2) Ophys Sessions Table: Contains metadata and experimental conditions for all sessions. This talbe can accessed by `get_ophys_session_table()` method.\n",
        "\n",
        "3) Ophys Experiments Table: Contains metadata and experimental conditions fo all imaging experiment (aka imaging plane). This table can be accessed by `get_experiment_session_table()` method.\n",
        "\n",
        "For more information see:\n",
        "[Link](https://github.com/miladqolamee/NeuroMatch_2022_group_project/blob/main/VBP_WhitePaper_SDK_Documentation.pdf)."
      ],
      "metadata": {
        "id": "hYL3XIrqN4ey"
      }
    },
    {
      "cell_type": "markdown",
      "source": [
        "# Allen 2P dataset terminology\n",
        "\n",
        "<img src=\"https://allensdk.readthedocs.io/en/latest/_static/visual_behavior_2p/data_structure.png\" alt=\"dataset terminology\" class=\"bg-primary\" width=\"100%\">"
      ],
      "metadata": {
        "id": "6-8hARAR0yCz"
      }
    },
    {
      "cell_type": "markdown",
      "source": [
        ""
      ],
      "metadata": {
        "id": "8Bi43yH6zuJ2"
      }
    },
    {
      "cell_type": "markdown",
      "source": [
        "---\n",
        "# First instal and upgrade allensdk package"
      ],
      "metadata": {
        "id": "EYmrOD6DOWbM"
      }
    },
    {
      "cell_type": "code",
      "source": [
        "# @title Instal allensdk package\n",
        "# @markdown Run this cell and then restart the Runtime.\n",
        "\n",
        "# @markdown After running this cell for the first time you don't nee to rerun it.\n",
        "#pip install allensdk\n",
        "!pip install allensdk\n",
        "!pip install hdmf --upgrade"
      ],
      "metadata": {
        "id": "IxBHK3ZQORRj",
        "cellView": "form"
      },
      "execution_count": null,
      "outputs": []
    },
    {
      "cell_type": "code",
      "execution_count": 1,
      "metadata": {
        "id": "ObAPF2m2MIxl",
        "cellView": "form",
        "colab": {
          "base_uri": "https://localhost:8080/"
        },
        "outputId": "98d9f434-218c-4fcd-8257-fdb6253b2b08"
      },
      "outputs": [
        {
          "output_type": "stream",
          "name": "stdout",
          "text": [
            "Looking in indexes: https://pypi.org/simple, https://us-python.pkg.dev/colab-wheels/public/simple/\n",
            "Requirement already satisfied: pip in /usr/local/lib/python3.7/dist-packages (21.1.3)\n",
            "Collecting pip\n",
            "  Downloading pip-22.1.2-py3-none-any.whl (2.1 MB)\n",
            "\u001b[K     |████████████████████████████████| 2.1 MB 4.2 MB/s \n",
            "\u001b[?25hInstalling collected packages: pip\n",
            "  Attempting uninstall: pip\n",
            "    Found existing installation: pip 21.1.3\n",
            "    Uninstalling pip-21.1.3:\n",
            "      Successfully uninstalled pip-21.1.3\n",
            "Successfully installed pip-22.1.2\n",
            "Looking in indexes: https://pypi.org/simple, https://us-python.pkg.dev/colab-wheels/public/simple/\n",
            "Collecting allensdk\n",
            "  Downloading allensdk-2.13.4-py3-none-any.whl (1.8 MB)\n",
            "\u001b[2K     \u001b[90m━━━━━━━━━━━━━━━━━━━━━━━━━━━━━━━━━━━━━━━━\u001b[0m \u001b[32m1.8/1.8 MB\u001b[0m \u001b[31m20.7 MB/s\u001b[0m eta \u001b[36m0:00:00\u001b[0m\n",
            "\u001b[?25hCollecting scikit-image<0.17.0,>=0.14.0\n",
            "  Downloading scikit_image-0.16.2-cp37-cp37m-manylinux1_x86_64.whl (26.5 MB)\n",
            "\u001b[2K     \u001b[90m━━━━━━━━━━━━━━━━━━━━━━━━━━━━━━━━━━━━━━━━\u001b[0m \u001b[32m26.5/26.5 MB\u001b[0m \u001b[31m39.2 MB/s\u001b[0m eta \u001b[36m0:00:00\u001b[0m\n",
            "\u001b[?25hRequirement already satisfied: matplotlib<3.4.3,>=1.4.3 in /usr/local/lib/python3.7/dist-packages (from allensdk) (3.2.2)\n",
            "Collecting hdmf>=2.5.8\n",
            "  Downloading hdmf-3.3.2-py3-none-any.whl (185 kB)\n",
            "\u001b[2K     \u001b[90m━━━━━━━━━━━━━━━━━━━━━━━━━━━━━━━━━━━━━━\u001b[0m \u001b[32m185.7/185.7 kB\u001b[0m \u001b[31m20.8 MB/s\u001b[0m eta \u001b[36m0:00:00\u001b[0m\n",
            "\u001b[?25hRequirement already satisfied: future<1.0.0,>=0.14.3 in /usr/local/lib/python3.7/dist-packages (from allensdk) (0.16.0)\n",
            "Collecting xarray<0.16.0\n",
            "  Downloading xarray-0.15.1-py3-none-any.whl (668 kB)\n",
            "\u001b[2K     \u001b[90m━━━━━━━━━━━━━━━━━━━━━━━━━━━━━━━━━━━━━━━\u001b[0m \u001b[32m668.3/668.3 kB\u001b[0m \u001b[31m6.1 MB/s\u001b[0m eta \u001b[36m0:00:00\u001b[0m\n",
            "\u001b[?25hCollecting pynwb\n",
            "  Downloading pynwb-2.1.0-py2.py3-none-any.whl (118 kB)\n",
            "\u001b[2K     \u001b[90m━━━━━━━━━━━━━━━━━━━━━━━━━━━━━━━━━━━━━━\u001b[0m \u001b[32m118.7/118.7 kB\u001b[0m \u001b[31m13.5 MB/s\u001b[0m eta \u001b[36m0:00:00\u001b[0m\n",
            "\u001b[?25hRequirement already satisfied: seaborn<1.0.0 in /usr/local/lib/python3.7/dist-packages (from allensdk) (0.11.2)\n",
            "Requirement already satisfied: tqdm>=4.27 in /usr/local/lib/python3.7/dist-packages (from allensdk) (4.64.0)\n",
            "Requirement already satisfied: h5py in /usr/local/lib/python3.7/dist-packages (from allensdk) (3.1.0)\n",
            "Collecting boto3==1.17.21\n",
            "  Downloading boto3-1.17.21-py2.py3-none-any.whl (130 kB)\n",
            "\u001b[2K     \u001b[90m━━━━━━━━━━━━━━━━━━━━━━━━━━━━━━━━━━━━━━\u001b[0m \u001b[32m130.3/130.3 kB\u001b[0m \u001b[31m12.4 MB/s\u001b[0m eta \u001b[36m0:00:00\u001b[0m\n",
            "\u001b[?25hCollecting glymur==0.8.19\n",
            "  Downloading Glymur-0.8.19.tar.gz (3.4 MB)\n",
            "\u001b[2K     \u001b[90m━━━━━━━━━━━━━━━━━━━━━━━━━━━━━━━━━━━━━━━━\u001b[0m \u001b[32m3.4/3.4 MB\u001b[0m \u001b[31m38.1 MB/s\u001b[0m eta \u001b[36m0:00:00\u001b[0m\n",
            "\u001b[?25h  Preparing metadata (setup.py) ... \u001b[?25l\u001b[?25hdone\n",
            "Collecting tables<3.7.0,>=3.6.0\n",
            "  Downloading tables-3.6.1-cp37-cp37m-manylinux1_x86_64.whl (4.3 MB)\n",
            "\u001b[2K     \u001b[90m━━━━━━━━━━━━━━━━━━━━━━━━━━━━━━━━━━━━━━━━\u001b[0m \u001b[32m4.3/4.3 MB\u001b[0m \u001b[31m32.7 MB/s\u001b[0m eta \u001b[36m0:00:00\u001b[0m\n",
            "\u001b[?25hRequirement already satisfied: scipy<2.0.0,>=1.4.0 in /usr/local/lib/python3.7/dist-packages (from allensdk) (1.7.3)\n",
            "Requirement already satisfied: sqlalchemy in /usr/local/lib/python3.7/dist-packages (from allensdk) (1.4.39)\n",
            "Requirement already satisfied: numpy in /usr/local/lib/python3.7/dist-packages (from allensdk) (1.21.6)\n",
            "Collecting argschema<4.0.0,>=3.0.1\n",
            "  Downloading argschema-3.0.4.tar.gz (25 kB)\n",
            "  Installing build dependencies ... \u001b[?25l\u001b[?25hdone\n",
            "  Getting requirements to build wheel ... \u001b[?25l\u001b[?25hdone\n",
            "  Preparing metadata (pyproject.toml) ... \u001b[?25l\u001b[?25hdone\n",
            "Requirement already satisfied: cachetools<5.0.0,>=4.2.1 in /usr/local/lib/python3.7/dist-packages (from allensdk) (4.2.4)\n",
            "Requirement already satisfied: semver in /usr/local/lib/python3.7/dist-packages (from allensdk) (2.13.0)\n",
            "Collecting simplejson<4.0.0,>=3.10.0\n",
            "  Downloading simplejson-3.17.6-cp37-cp37m-manylinux_2_5_x86_64.manylinux1_x86_64.manylinux_2_12_x86_64.manylinux2010_x86_64.whl (130 kB)\n",
            "\u001b[2K     \u001b[90m━━━━━━━━━━━━━━━━━━━━━━━━━━━━━━━━━━━━━━\u001b[0m \u001b[32m130.3/130.3 kB\u001b[0m \u001b[31m13.6 MB/s\u001b[0m eta \u001b[36m0:00:00\u001b[0m\n",
            "\u001b[?25hRequirement already satisfied: nest-asyncio in /usr/local/lib/python3.7/dist-packages (from allensdk) (1.5.5)\n",
            "Collecting aiohttp==3.7.4\n",
            "  Downloading aiohttp-3.7.4-cp37-cp37m-manylinux2014_x86_64.whl (1.3 MB)\n",
            "\u001b[2K     \u001b[90m━━━━━━━━━━━━━━━━━━━━━━━━━━━━━━━━━━━━━━━━\u001b[0m \u001b[32m1.3/1.3 MB\u001b[0m \u001b[31m52.8 MB/s\u001b[0m eta \u001b[36m0:00:00\u001b[0m\n",
            "\u001b[?25hRequirement already satisfied: requests<3.0.0 in /usr/local/lib/python3.7/dist-packages (from allensdk) (2.23.0)\n",
            "Collecting ndx-events<=0.2.0\n",
            "  Downloading ndx_events-0.2.0-py2.py3-none-any.whl (13 kB)\n",
            "Requirement already satisfied: statsmodels<=0.13.0 in /usr/local/lib/python3.7/dist-packages (from allensdk) (0.10.2)\n",
            "Collecting pynrrd<1.0.0,>=0.2.1\n",
            "  Downloading pynrrd-0.4.3-py2.py3-none-any.whl (18 kB)\n",
            "Requirement already satisfied: pandas>=1.1.5 in /usr/local/lib/python3.7/dist-packages (from allensdk) (1.3.5)\n",
            "Collecting requests-toolbelt<1.0.0\n",
            "  Downloading requests_toolbelt-0.9.1-py2.py3-none-any.whl (54 kB)\n",
            "\u001b[2K     \u001b[90m━━━━━━━━━━━━━━━━━━━━━━━━━━━━━━━━━━━━━━━━\u001b[0m \u001b[32m54.3/54.3 kB\u001b[0m \u001b[31m6.3 MB/s\u001b[0m eta \u001b[36m0:00:00\u001b[0m\n",
            "\u001b[?25hCollecting psycopg2-binary<3.0.0,>=2.7\n",
            "  Downloading psycopg2_binary-2.9.3-cp37-cp37m-manylinux_2_17_x86_64.manylinux2014_x86_64.whl (3.0 MB)\n",
            "\u001b[2K     \u001b[90m━━━━━━━━━━━━━━━━━━━━━━━━━━━━━━━━━━━━━━━━\u001b[0m \u001b[32m3.0/3.0 MB\u001b[0m \u001b[31m55.7 MB/s\u001b[0m eta \u001b[36m0:00:00\u001b[0m\n",
            "\u001b[?25hRequirement already satisfied: jinja2<2.12.0,>=2.7.3 in /usr/local/lib/python3.7/dist-packages (from allensdk) (2.11.3)\n",
            "Collecting scikit-build<1.0.0\n",
            "  Downloading scikit_build-0.15.0-py2.py3-none-any.whl (77 kB)\n",
            "\u001b[2K     \u001b[90m━━━━━━━━━━━━━━━━━━━━━━━━━━━━━━━━━━━━━━━━\u001b[0m \u001b[32m77.5/77.5 kB\u001b[0m \u001b[31m9.6 MB/s\u001b[0m eta \u001b[36m0:00:00\u001b[0m\n",
            "\u001b[?25hRequirement already satisfied: six<2.0.0,>=1.9.0 in /usr/local/lib/python3.7/dist-packages (from allensdk) (1.15.0)\n",
            "Collecting simpleitk<3.0.0,>=2.0.2\n",
            "  Downloading SimpleITK-2.1.1.2-cp37-cp37m-manylinux_2_12_x86_64.manylinux2010_x86_64.whl (48.4 MB)\n",
            "\u001b[2K     \u001b[90m━━━━━━━━━━━━━━━━━━━━━━━━━━━━━━━━━━━━━━━━\u001b[0m \u001b[32m48.4/48.4 MB\u001b[0m \u001b[31m10.8 MB/s\u001b[0m eta \u001b[36m0:00:00\u001b[0m\n",
            "\u001b[?25hCollecting async-timeout<4.0,>=3.0\n",
            "  Downloading async_timeout-3.0.1-py3-none-any.whl (8.2 kB)\n",
            "Requirement already satisfied: chardet<4.0,>=2.0 in /usr/local/lib/python3.7/dist-packages (from aiohttp==3.7.4->allensdk) (3.0.4)\n",
            "Requirement already satisfied: attrs>=17.3.0 in /usr/local/lib/python3.7/dist-packages (from aiohttp==3.7.4->allensdk) (21.4.0)\n",
            "Requirement already satisfied: typing-extensions>=3.6.5 in /usr/local/lib/python3.7/dist-packages (from aiohttp==3.7.4->allensdk) (4.1.1)\n",
            "Collecting multidict<7.0,>=4.5\n",
            "  Downloading multidict-6.0.2-cp37-cp37m-manylinux_2_17_x86_64.manylinux2014_x86_64.whl (94 kB)\n",
            "\u001b[2K     \u001b[90m━━━━━━━━━━━━━━━━━━━━━━━━━━━━━━━━━━━━━━━━\u001b[0m \u001b[32m94.8/94.8 kB\u001b[0m \u001b[31m9.7 MB/s\u001b[0m eta \u001b[36m0:00:00\u001b[0m\n",
            "\u001b[?25hCollecting yarl<2.0,>=1.0\n",
            "  Downloading yarl-1.7.2-cp37-cp37m-manylinux_2_5_x86_64.manylinux1_x86_64.manylinux_2_12_x86_64.manylinux2010_x86_64.whl (271 kB)\n",
            "\u001b[2K     \u001b[90m━━━━━━━━━━━━━━━━━━━━━━━━━━━━━━━━━━━━━━\u001b[0m \u001b[32m271.8/271.8 kB\u001b[0m \u001b[31m26.1 MB/s\u001b[0m eta \u001b[36m0:00:00\u001b[0m\n",
            "\u001b[?25hCollecting jmespath<1.0.0,>=0.7.1\n",
            "  Downloading jmespath-0.10.0-py2.py3-none-any.whl (24 kB)\n",
            "Collecting s3transfer<0.4.0,>=0.3.0\n",
            "  Downloading s3transfer-0.3.7-py2.py3-none-any.whl (73 kB)\n",
            "\u001b[2K     \u001b[90m━━━━━━━━━━━━━━━━━━━━━━━━━━━━━━━━━━━━━━━━\u001b[0m \u001b[32m73.4/73.4 kB\u001b[0m \u001b[31m9.9 MB/s\u001b[0m eta \u001b[36m0:00:00\u001b[0m\n",
            "\u001b[?25hCollecting botocore<1.21.0,>=1.20.21\n",
            "  Downloading botocore-1.20.112-py2.py3-none-any.whl (7.7 MB)\n",
            "\u001b[2K     \u001b[90m━━━━━━━━━━━━━━━━━━━━━━━━━━━━━━━━━━━━━━━━\u001b[0m \u001b[32m7.7/7.7 MB\u001b[0m \u001b[31m71.5 MB/s\u001b[0m eta \u001b[36m0:00:00\u001b[0m\n",
            "\u001b[?25hRequirement already satisfied: setuptools in /usr/local/lib/python3.7/dist-packages (from glymur==0.8.19->allensdk) (57.4.0)\n",
            "Collecting marshmallow<4.0,>=3.0.0\n",
            "  Downloading marshmallow-3.17.0-py3-none-any.whl (48 kB)\n",
            "\u001b[2K     \u001b[90m━━━━━━━━━━━━━━━━━━━━━━━━━━━━━━━━━━━━━━━━\u001b[0m \u001b[32m48.3/48.3 kB\u001b[0m \u001b[31m5.9 MB/s\u001b[0m eta \u001b[36m0:00:00\u001b[0m\n",
            "\u001b[?25hRequirement already satisfied: pyyaml in /usr/local/lib/python3.7/dist-packages (from argschema<4.0.0,>=3.0.1->allensdk) (3.13)\n",
            "Collecting ruamel.yaml<1,>=0.16\n",
            "  Downloading ruamel.yaml-0.17.21-py3-none-any.whl (109 kB)\n",
            "\u001b[2K     \u001b[90m━━━━━━━━━━━━━━━━━━━━━━━━━━━━━━━━━━━━━━\u001b[0m \u001b[32m109.5/109.5 kB\u001b[0m \u001b[31m12.1 MB/s\u001b[0m eta \u001b[36m0:00:00\u001b[0m\n",
            "\u001b[?25hRequirement already satisfied: jsonschema<5,>=2.6.0 in /usr/local/lib/python3.7/dist-packages (from hdmf>=2.5.8->allensdk) (4.3.3)\n",
            "Requirement already satisfied: cached-property in /usr/local/lib/python3.7/dist-packages (from h5py->allensdk) (1.5.2)\n",
            "Requirement already satisfied: MarkupSafe>=0.23 in /usr/local/lib/python3.7/dist-packages (from jinja2<2.12.0,>=2.7.3->allensdk) (2.0.1)\n",
            "Requirement already satisfied: kiwisolver>=1.0.1 in /usr/local/lib/python3.7/dist-packages (from matplotlib<3.4.3,>=1.4.3->allensdk) (1.4.3)\n",
            "Requirement already satisfied: cycler>=0.10 in /usr/local/lib/python3.7/dist-packages (from matplotlib<3.4.3,>=1.4.3->allensdk) (0.11.0)\n",
            "Requirement already satisfied: pyparsing!=2.0.4,!=2.1.2,!=2.1.6,>=2.0.1 in /usr/local/lib/python3.7/dist-packages (from matplotlib<3.4.3,>=1.4.3->allensdk) (3.0.9)\n",
            "Requirement already satisfied: python-dateutil>=2.1 in /usr/local/lib/python3.7/dist-packages (from matplotlib<3.4.3,>=1.4.3->allensdk) (2.8.2)\n",
            "Requirement already satisfied: pytz>=2017.3 in /usr/local/lib/python3.7/dist-packages (from pandas>=1.1.5->allensdk) (2022.1)\n",
            "Requirement already satisfied: urllib3!=1.25.0,!=1.25.1,<1.26,>=1.21.1 in /usr/local/lib/python3.7/dist-packages (from requests<3.0.0->allensdk) (1.24.3)\n",
            "Requirement already satisfied: certifi>=2017.4.17 in /usr/local/lib/python3.7/dist-packages (from requests<3.0.0->allensdk) (2022.6.15)\n",
            "Requirement already satisfied: idna<3,>=2.5 in /usr/local/lib/python3.7/dist-packages (from requests<3.0.0->allensdk) (2.10)\n",
            "Requirement already satisfied: packaging in /usr/local/lib/python3.7/dist-packages (from scikit-build<1.0.0->allensdk) (21.3)\n",
            "Collecting distro\n",
            "  Downloading distro-1.7.0-py3-none-any.whl (20 kB)\n",
            "Requirement already satisfied: wheel>=0.29.0 in /usr/local/lib/python3.7/dist-packages (from scikit-build<1.0.0->allensdk) (0.37.1)\n",
            "Requirement already satisfied: networkx>=2.0 in /usr/local/lib/python3.7/dist-packages (from scikit-image<0.17.0,>=0.14.0->allensdk) (2.6.3)\n",
            "Requirement already satisfied: PyWavelets>=0.4.0 in /usr/local/lib/python3.7/dist-packages (from scikit-image<0.17.0,>=0.14.0->allensdk) (1.3.0)\n",
            "Requirement already satisfied: imageio>=2.3.0 in /usr/local/lib/python3.7/dist-packages (from scikit-image<0.17.0,>=0.14.0->allensdk) (2.4.1)\n",
            "Requirement already satisfied: pillow>=4.3.0 in /usr/local/lib/python3.7/dist-packages (from scikit-image<0.17.0,>=0.14.0->allensdk) (7.1.2)\n",
            "Requirement already satisfied: patsy>=0.4.0 in /usr/local/lib/python3.7/dist-packages (from statsmodels<=0.13.0->allensdk) (0.5.2)\n",
            "Requirement already satisfied: numexpr>=2.6.2 in /usr/local/lib/python3.7/dist-packages (from tables<3.7.0,>=3.6.0->allensdk) (2.8.3)\n",
            "Requirement already satisfied: importlib-metadata in /usr/local/lib/python3.7/dist-packages (from sqlalchemy->allensdk) (4.12.0)\n",
            "Requirement already satisfied: greenlet!=0.4.17 in /usr/local/lib/python3.7/dist-packages (from sqlalchemy->allensdk) (1.1.2)\n",
            "Collecting urllib3!=1.25.0,!=1.25.1,<1.26,>=1.21.1\n",
            "  Downloading urllib3-1.25.11-py2.py3-none-any.whl (127 kB)\n",
            "\u001b[2K     \u001b[90m━━━━━━━━━━━━━━━━━━━━━━━━━━━━━━━━━━━━━━\u001b[0m \u001b[32m128.0/128.0 kB\u001b[0m \u001b[31m16.4 MB/s\u001b[0m eta \u001b[36m0:00:00\u001b[0m\n",
            "\u001b[?25hRequirement already satisfied: pyrsistent!=0.17.0,!=0.17.1,!=0.17.2,>=0.14.0 in /usr/local/lib/python3.7/dist-packages (from jsonschema<5,>=2.6.0->hdmf>=2.5.8->allensdk) (0.18.1)\n",
            "Requirement already satisfied: importlib-resources>=1.4.0 in /usr/local/lib/python3.7/dist-packages (from jsonschema<5,>=2.6.0->hdmf>=2.5.8->allensdk) (5.8.0)\n",
            "Collecting ruamel.yaml.clib>=0.2.6\n",
            "  Downloading ruamel.yaml.clib-0.2.6-cp37-cp37m-manylinux1_x86_64.whl (546 kB)\n",
            "\u001b[2K     \u001b[90m━━━━━━━━━━━━━━━━━━━━━━━━━━━━━━━━━━━━━━\u001b[0m \u001b[32m546.8/546.8 kB\u001b[0m \u001b[31m36.2 MB/s\u001b[0m eta \u001b[36m0:00:00\u001b[0m\n",
            "\u001b[?25hRequirement already satisfied: zipp>=0.5 in /usr/local/lib/python3.7/dist-packages (from importlib-metadata->sqlalchemy->allensdk) (3.8.0)\n",
            "Building wheels for collected packages: glymur, argschema\n",
            "  Building wheel for glymur (setup.py) ... \u001b[?25l\u001b[?25hdone\n",
            "  Created wheel for glymur: filename=Glymur-0.8.19-py3-none-any.whl size=2722014 sha256=3ff957340c35dd6a98560a33ee37ee7f51f7b4dbf12419ff3dc34bd904c47e15\n",
            "  Stored in directory: /root/.cache/pip/wheels/36/bc/bd/1786279b44db4cbd6ded18090d02978fc31e78e3e516551bb4\n",
            "  Building wheel for argschema (pyproject.toml) ... \u001b[?25l\u001b[?25hdone\n",
            "  Created wheel for argschema: filename=argschema-3.0.4-py2.py3-none-any.whl size=19106 sha256=9457df63aac5a0034652b3ce0593ef95776d20a62f36c4dafd8971ebf6beecbd\n",
            "  Stored in directory: /root/.cache/pip/wheels/81/a6/cf/a6a56e0716df5e18c5473561619e84c5c812938f2328ec6bd6\n",
            "Successfully built glymur argschema\n",
            "Installing collected packages: simpleitk, urllib3, simplejson, ruamel.yaml.clib, pynrrd, psycopg2-binary, multidict, jmespath, glymur, distro, async-timeout, yarl, scikit-build, ruamel.yaml, marshmallow, botocore, xarray, tables, scikit-image, s3transfer, requests-toolbelt, hdmf, argschema, aiohttp, pynwb, boto3, ndx-events, allensdk\n",
            "  Attempting uninstall: urllib3\n",
            "    Found existing installation: urllib3 1.24.3\n",
            "    Uninstalling urllib3-1.24.3:\n",
            "      Successfully uninstalled urllib3-1.24.3\n",
            "  Attempting uninstall: xarray\n",
            "    Found existing installation: xarray 0.20.2\n",
            "    Uninstalling xarray-0.20.2:\n",
            "      Successfully uninstalled xarray-0.20.2\n",
            "  Attempting uninstall: tables\n",
            "    Found existing installation: tables 3.7.0\n",
            "    Uninstalling tables-3.7.0:\n",
            "      Successfully uninstalled tables-3.7.0\n",
            "  Attempting uninstall: scikit-image\n",
            "    Found existing installation: scikit-image 0.18.3\n",
            "    Uninstalling scikit-image-0.18.3:\n",
            "      Successfully uninstalled scikit-image-0.18.3\n",
            "\u001b[31mERROR: pip's dependency resolver does not currently take into account all the packages that are installed. This behaviour is the source of the following dependency conflicts.\n",
            "xarray-einstats 0.2.2 requires xarray>=0.20, but you have xarray 0.15.1 which is incompatible.\n",
            "datascience 0.10.6 requires folium==0.2.1, but you have folium 0.8.3 which is incompatible.\n",
            "arviz 0.12.1 requires xarray>=0.16.1, but you have xarray 0.15.1 which is incompatible.\n",
            "albumentations 0.1.12 requires imgaug<0.2.7,>=0.2.5, but you have imgaug 0.2.9 which is incompatible.\u001b[0m\u001b[31m\n",
            "\u001b[0mSuccessfully installed aiohttp-3.7.4 allensdk-2.13.4 argschema-3.0.4 async-timeout-3.0.1 boto3-1.17.21 botocore-1.20.112 distro-1.7.0 glymur-0.8.19 hdmf-3.3.2 jmespath-0.10.0 marshmallow-3.17.0 multidict-6.0.2 ndx-events-0.2.0 psycopg2-binary-2.9.3 pynrrd-0.4.3 pynwb-2.1.0 requests-toolbelt-0.9.1 ruamel.yaml-0.17.21 ruamel.yaml.clib-0.2.6 s3transfer-0.3.7 scikit-build-0.15.0 scikit-image-0.16.2 simpleitk-2.1.1.2 simplejson-3.17.6 tables-3.6.1 urllib3-1.25.11 xarray-0.15.1 yarl-1.7.2\n",
            "\u001b[33mWARNING: Running pip as the 'root' user can result in broken permissions and conflicting behaviour with the system package manager. It is recommended to use a virtual environment instead: https://pip.pypa.io/warnings/venv\u001b[0m\u001b[33m\n",
            "\u001b[0m"
          ]
        }
      ],
      "source": [
        "# @title Upgrade the package\n",
        "!pip install --upgrade pip\n",
        "!pip install allensdk\n"
      ]
    },
    {
      "cell_type": "code",
      "source": [
        "# @title Improt relevant packages\n",
        "import numpy as np\n",
        "import pandas as pd\n",
        "from pathlib import Path\n",
        "import math\n",
        "\n",
        "import allensdk\n",
        "from allensdk.brain_observatory.behavior.behavior_project_cache import VisualBehaviorOphysProjectCache"
      ],
      "metadata": {
        "id": "9a4-IjIfOIRy",
        "cellView": "form"
      },
      "execution_count": 3,
      "outputs": []
    },
    {
      "cell_type": "markdown",
      "source": [
        "## First we need a file path because we need to pass it to cache object to indicate where the file should be downloaded\n",
        "\n",
        "## By calling `VisualBehaviorOphysProjectCache`, Tables will be downloaded"
      ],
      "metadata": {
        "id": "kCmH5Ia4qB2i"
      }
    },
    {
      "cell_type": "code",
      "execution_count": 4,
      "metadata": {
        "id": "rjIk48eVpiWH",
        "colab": {
          "base_uri": "https://localhost:8080/"
        },
        "outputId": "cc4d7e98-2b69-4fbc-b602-8e178aebbedd"
      },
      "outputs": [
        {
          "output_type": "stream",
          "name": "stderr",
          "text": [
            "ophys_session_table.csv: 100%|██████████| 227k/227k [00:00<00:00, 1.02MMB/s] \n",
            "behavior_session_table.csv: 100%|██████████| 1.21M/1.21M [00:00<00:00, 5.48MMB/s]\n",
            "ophys_experiment_table.csv: 100%|██████████| 610k/610k [00:00<00:00, 2.91MMB/s] \n",
            "ophys_cells_table.csv: 100%|██████████| 4.29M/4.29M [00:00<00:00, 8.46MMB/s]\n"
          ]
        }
      ],
      "source": [
        "# Update this to a valid directory in your filesystem\n",
        "data_storage_directory = Path(\"/local1/visual_behavior_ophys_cache_dir\")\n",
        "\n",
        "cache = VisualBehaviorOphysProjectCache.from_s3_cache(cache_dir=data_storage_directory)"
      ]
    },
    {
      "cell_type": "markdown",
      "source": [
        "## Experiment Sessions Table"
      ],
      "metadata": {
        "id": "AlpIi1DkuKBQ"
      }
    },
    {
      "cell_type": "code",
      "source": [
        "experiment_table = cache.get_ophys_experiment_table()   # Getting Experiment Session Table\n",
        "experiment_table.sample(5)                              # Show 5 random observation\n",
        "print(len(experiment_table))                            # How many rows?\n",
        "print(len(experiment_table.ophys_session_id.unique()))  # How many unique imaging session"
      ],
      "metadata": {
        "id": "ICQkz8xFuXgl"
      },
      "execution_count": null,
      "outputs": []
    },
    {
      "cell_type": "markdown",
      "source": [
        "## Selecting experiments for VIP and SST nuerons"
      ],
      "metadata": {
        "id": "8JCN5BCBzXwa"
      }
    },
    {
      "cell_type": "code",
      "source": [
        "experiment_variables = experiment_table.columns      # All variables in behavior table\n",
        "\n",
        "experiment_table.cre_line.unique()    # How many unique cre-line we have\n",
        "\n",
        "Vip_experiment_table = experiment_table[(experiment_table.cre_line.values == 'Vip-IRES-Cre') & \n",
        "                                    (experiment_table.ophys_session_id.isnull() == False)]\n",
        "Sst_experiment_table = experiment_table[(experiment_table.cre_line.values == 'Sst-IRES-Cre') & \n",
        "                                    (experiment_table.ophys_session_id.isnull() == False)]\n",
        "\n",
        "\n",
        "# getting information just for one mouse for simplification and sort its table by date of aquisition\n",
        "Vip_mouse_id = Vip_experiment_table.mouse_id.unique()[0]\n",
        "Sst_mouse_id = Sst_experiment_table.mouse_id.unique()[0]\n",
        "\n",
        "this_mouse_Vip_experiment_table = experiment_table[(experiment_table.cre_line.values == 'Vip-IRES-Cre') & \n",
        "                                    (experiment_table.ophys_session_id.isnull() == False)\n",
        "                                    & (experiment_table.mouse_id.values == Vip_mouse_id)].sort_values(\n",
        "                                        by = 'date_of_acquisition')\n",
        "this_mouse_Sst_experiment_table = experiment_table[(experiment_table.cre_line.values == 'Sst-IRES-Cre') & \n",
        "                                    (experiment_table.ophys_session_id.isnull() == False)\n",
        "                                    & (experiment_table.mouse_id.values == Sst_mouse_id)].sort_values(\n",
        "                                        by = 'date_of_acquisition')\n",
        "\n"
      ],
      "metadata": {
        "colab": {
          "base_uri": "https://localhost:8080/",
          "height": 571
        },
        "id": "5g13eH_yO05p",
        "outputId": "86ff11f3-1b27-4417-ae0b-6411601ca0da"
      },
      "execution_count": 30,
      "outputs": [
        {
          "output_type": "execute_result",
          "data": {
            "text/plain": [
              "                    equipment_name  \\\n",
              "ophys_experiment_id                  \n",
              "792815735                  CAM2P.4   \n",
              "795073741                  CAM2P.4   \n",
              "795953296                  CAM2P.4   \n",
              "796108483                  CAM2P.4   \n",
              "796308505                  CAM2P.4   \n",
              "798404219                  CAM2P.4   \n",
              "\n",
              "                                                     full_genotype  mouse_id  \\\n",
              "ophys_experiment_id                                                            \n",
              "792815735            Vip-IRES-Cre/wt;Ai148(TIT2L-GC6f-ICL-tTA2)/wt    412036   \n",
              "795073741            Vip-IRES-Cre/wt;Ai148(TIT2L-GC6f-ICL-tTA2)/wt    412036   \n",
              "795953296            Vip-IRES-Cre/wt;Ai148(TIT2L-GC6f-ICL-tTA2)/wt    412036   \n",
              "796108483            Vip-IRES-Cre/wt;Ai148(TIT2L-GC6f-ICL-tTA2)/wt    412036   \n",
              "796308505            Vip-IRES-Cre/wt;Ai148(TIT2L-GC6f-ICL-tTA2)/wt    412036   \n",
              "798404219            Vip-IRES-Cre/wt;Ai148(TIT2L-GC6f-ICL-tTA2)/wt    412036   \n",
              "\n",
              "                                  reporter_line     driver_line sex  \\\n",
              "ophys_experiment_id                                                   \n",
              "792815735            Ai148(TIT2L-GC6f-ICL-tTA2)  [Vip-IRES-Cre]   F   \n",
              "795073741            Ai148(TIT2L-GC6f-ICL-tTA2)  [Vip-IRES-Cre]   F   \n",
              "795953296            Ai148(TIT2L-GC6f-ICL-tTA2)  [Vip-IRES-Cre]   F   \n",
              "796108483            Ai148(TIT2L-GC6f-ICL-tTA2)  [Vip-IRES-Cre]   F   \n",
              "796308505            Ai148(TIT2L-GC6f-ICL-tTA2)  [Vip-IRES-Cre]   F   \n",
              "798404219            Ai148(TIT2L-GC6f-ICL-tTA2)  [Vip-IRES-Cre]   F   \n",
              "\n",
              "                     age_in_days      cre_line indicator  session_number  ...  \\\n",
              "ophys_experiment_id                                                       ...   \n",
              "792815735                  148.0  Vip-IRES-Cre   GCaMP6f             1.0  ...   \n",
              "795073741                  151.0  Vip-IRES-Cre   GCaMP6f             3.0  ...   \n",
              "795953296                  152.0  Vip-IRES-Cre   GCaMP6f             4.0  ...   \n",
              "796108483                  153.0  Vip-IRES-Cre   GCaMP6f             5.0  ...   \n",
              "796308505                  154.0  Vip-IRES-Cre   GCaMP6f             6.0  ...   \n",
              "798404219                  156.0  Vip-IRES-Cre   GCaMP6f             2.0  ...   \n",
              "\n",
              "                     ophys_container_id    project_code  imaging_depth  \\\n",
              "ophys_experiment_id                                                      \n",
              "792815735                     791352433  VisualBehavior            175   \n",
              "795073741                     791352433  VisualBehavior            175   \n",
              "795953296                     791352433  VisualBehavior            175   \n",
              "796108483                     791352433  VisualBehavior            175   \n",
              "796308505                     791352433  VisualBehavior            175   \n",
              "798404219                     791352433  VisualBehavior            175   \n",
              "\n",
              "                     targeted_structure         date_of_acquisition  \\\n",
              "ophys_experiment_id                                                   \n",
              "792815735                          VISp  2018-12-10 21:19:50.000000   \n",
              "795073741                          VISp  2018-12-13 21:11:17.000000   \n",
              "795953296                          VISp  2018-12-14 20:17:05.000000   \n",
              "796108483                          VISp  2018-12-15 20:56:37.000000   \n",
              "796308505                          VISp  2018-12-16 20:44:48.000000   \n",
              "798404219                          VISp  2018-12-18 23:26:29.000000   \n",
              "\n",
              "                                 session_type experience_level  passive  \\\n",
              "ophys_experiment_id                                                       \n",
              "792815735                    OPHYS_1_images_A         Familiar    False   \n",
              "795073741                    OPHYS_3_images_A         Familiar    False   \n",
              "795953296                    OPHYS_4_images_B          Novel 1    False   \n",
              "796108483            OPHYS_5_images_B_passive         Novel >1     True   \n",
              "796308505                    OPHYS_6_images_B         Novel >1    False   \n",
              "798404219            OPHYS_2_images_A_passive         Familiar     True   \n",
              "\n",
              "                    image_set    file_id  \n",
              "ophys_experiment_id                       \n",
              "792815735                   A  859887405  \n",
              "795073741                   A  859887459  \n",
              "795953296                   B  859887431  \n",
              "796108483                   B  859888310  \n",
              "796308505                   B  859887448  \n",
              "798404219                   A  859888258  \n",
              "\n",
              "[6 rows x 25 columns]"
            ],
            "text/html": [
              "\n",
              "  <div id=\"df-8fe78d21-03b2-4953-a0b0-be2e7cf278ee\">\n",
              "    <div class=\"colab-df-container\">\n",
              "      <div>\n",
              "<style scoped>\n",
              "    .dataframe tbody tr th:only-of-type {\n",
              "        vertical-align: middle;\n",
              "    }\n",
              "\n",
              "    .dataframe tbody tr th {\n",
              "        vertical-align: top;\n",
              "    }\n",
              "\n",
              "    .dataframe thead th {\n",
              "        text-align: right;\n",
              "    }\n",
              "</style>\n",
              "<table border=\"1\" class=\"dataframe\">\n",
              "  <thead>\n",
              "    <tr style=\"text-align: right;\">\n",
              "      <th></th>\n",
              "      <th>equipment_name</th>\n",
              "      <th>full_genotype</th>\n",
              "      <th>mouse_id</th>\n",
              "      <th>reporter_line</th>\n",
              "      <th>driver_line</th>\n",
              "      <th>sex</th>\n",
              "      <th>age_in_days</th>\n",
              "      <th>cre_line</th>\n",
              "      <th>indicator</th>\n",
              "      <th>session_number</th>\n",
              "      <th>...</th>\n",
              "      <th>ophys_container_id</th>\n",
              "      <th>project_code</th>\n",
              "      <th>imaging_depth</th>\n",
              "      <th>targeted_structure</th>\n",
              "      <th>date_of_acquisition</th>\n",
              "      <th>session_type</th>\n",
              "      <th>experience_level</th>\n",
              "      <th>passive</th>\n",
              "      <th>image_set</th>\n",
              "      <th>file_id</th>\n",
              "    </tr>\n",
              "    <tr>\n",
              "      <th>ophys_experiment_id</th>\n",
              "      <th></th>\n",
              "      <th></th>\n",
              "      <th></th>\n",
              "      <th></th>\n",
              "      <th></th>\n",
              "      <th></th>\n",
              "      <th></th>\n",
              "      <th></th>\n",
              "      <th></th>\n",
              "      <th></th>\n",
              "      <th></th>\n",
              "      <th></th>\n",
              "      <th></th>\n",
              "      <th></th>\n",
              "      <th></th>\n",
              "      <th></th>\n",
              "      <th></th>\n",
              "      <th></th>\n",
              "      <th></th>\n",
              "      <th></th>\n",
              "      <th></th>\n",
              "    </tr>\n",
              "  </thead>\n",
              "  <tbody>\n",
              "    <tr>\n",
              "      <th>792815735</th>\n",
              "      <td>CAM2P.4</td>\n",
              "      <td>Vip-IRES-Cre/wt;Ai148(TIT2L-GC6f-ICL-tTA2)/wt</td>\n",
              "      <td>412036</td>\n",
              "      <td>Ai148(TIT2L-GC6f-ICL-tTA2)</td>\n",
              "      <td>[Vip-IRES-Cre]</td>\n",
              "      <td>F</td>\n",
              "      <td>148.0</td>\n",
              "      <td>Vip-IRES-Cre</td>\n",
              "      <td>GCaMP6f</td>\n",
              "      <td>1.0</td>\n",
              "      <td>...</td>\n",
              "      <td>791352433</td>\n",
              "      <td>VisualBehavior</td>\n",
              "      <td>175</td>\n",
              "      <td>VISp</td>\n",
              "      <td>2018-12-10 21:19:50.000000</td>\n",
              "      <td>OPHYS_1_images_A</td>\n",
              "      <td>Familiar</td>\n",
              "      <td>False</td>\n",
              "      <td>A</td>\n",
              "      <td>859887405</td>\n",
              "    </tr>\n",
              "    <tr>\n",
              "      <th>795073741</th>\n",
              "      <td>CAM2P.4</td>\n",
              "      <td>Vip-IRES-Cre/wt;Ai148(TIT2L-GC6f-ICL-tTA2)/wt</td>\n",
              "      <td>412036</td>\n",
              "      <td>Ai148(TIT2L-GC6f-ICL-tTA2)</td>\n",
              "      <td>[Vip-IRES-Cre]</td>\n",
              "      <td>F</td>\n",
              "      <td>151.0</td>\n",
              "      <td>Vip-IRES-Cre</td>\n",
              "      <td>GCaMP6f</td>\n",
              "      <td>3.0</td>\n",
              "      <td>...</td>\n",
              "      <td>791352433</td>\n",
              "      <td>VisualBehavior</td>\n",
              "      <td>175</td>\n",
              "      <td>VISp</td>\n",
              "      <td>2018-12-13 21:11:17.000000</td>\n",
              "      <td>OPHYS_3_images_A</td>\n",
              "      <td>Familiar</td>\n",
              "      <td>False</td>\n",
              "      <td>A</td>\n",
              "      <td>859887459</td>\n",
              "    </tr>\n",
              "    <tr>\n",
              "      <th>795953296</th>\n",
              "      <td>CAM2P.4</td>\n",
              "      <td>Vip-IRES-Cre/wt;Ai148(TIT2L-GC6f-ICL-tTA2)/wt</td>\n",
              "      <td>412036</td>\n",
              "      <td>Ai148(TIT2L-GC6f-ICL-tTA2)</td>\n",
              "      <td>[Vip-IRES-Cre]</td>\n",
              "      <td>F</td>\n",
              "      <td>152.0</td>\n",
              "      <td>Vip-IRES-Cre</td>\n",
              "      <td>GCaMP6f</td>\n",
              "      <td>4.0</td>\n",
              "      <td>...</td>\n",
              "      <td>791352433</td>\n",
              "      <td>VisualBehavior</td>\n",
              "      <td>175</td>\n",
              "      <td>VISp</td>\n",
              "      <td>2018-12-14 20:17:05.000000</td>\n",
              "      <td>OPHYS_4_images_B</td>\n",
              "      <td>Novel 1</td>\n",
              "      <td>False</td>\n",
              "      <td>B</td>\n",
              "      <td>859887431</td>\n",
              "    </tr>\n",
              "    <tr>\n",
              "      <th>796108483</th>\n",
              "      <td>CAM2P.4</td>\n",
              "      <td>Vip-IRES-Cre/wt;Ai148(TIT2L-GC6f-ICL-tTA2)/wt</td>\n",
              "      <td>412036</td>\n",
              "      <td>Ai148(TIT2L-GC6f-ICL-tTA2)</td>\n",
              "      <td>[Vip-IRES-Cre]</td>\n",
              "      <td>F</td>\n",
              "      <td>153.0</td>\n",
              "      <td>Vip-IRES-Cre</td>\n",
              "      <td>GCaMP6f</td>\n",
              "      <td>5.0</td>\n",
              "      <td>...</td>\n",
              "      <td>791352433</td>\n",
              "      <td>VisualBehavior</td>\n",
              "      <td>175</td>\n",
              "      <td>VISp</td>\n",
              "      <td>2018-12-15 20:56:37.000000</td>\n",
              "      <td>OPHYS_5_images_B_passive</td>\n",
              "      <td>Novel &gt;1</td>\n",
              "      <td>True</td>\n",
              "      <td>B</td>\n",
              "      <td>859888310</td>\n",
              "    </tr>\n",
              "    <tr>\n",
              "      <th>796308505</th>\n",
              "      <td>CAM2P.4</td>\n",
              "      <td>Vip-IRES-Cre/wt;Ai148(TIT2L-GC6f-ICL-tTA2)/wt</td>\n",
              "      <td>412036</td>\n",
              "      <td>Ai148(TIT2L-GC6f-ICL-tTA2)</td>\n",
              "      <td>[Vip-IRES-Cre]</td>\n",
              "      <td>F</td>\n",
              "      <td>154.0</td>\n",
              "      <td>Vip-IRES-Cre</td>\n",
              "      <td>GCaMP6f</td>\n",
              "      <td>6.0</td>\n",
              "      <td>...</td>\n",
              "      <td>791352433</td>\n",
              "      <td>VisualBehavior</td>\n",
              "      <td>175</td>\n",
              "      <td>VISp</td>\n",
              "      <td>2018-12-16 20:44:48.000000</td>\n",
              "      <td>OPHYS_6_images_B</td>\n",
              "      <td>Novel &gt;1</td>\n",
              "      <td>False</td>\n",
              "      <td>B</td>\n",
              "      <td>859887448</td>\n",
              "    </tr>\n",
              "    <tr>\n",
              "      <th>798404219</th>\n",
              "      <td>CAM2P.4</td>\n",
              "      <td>Vip-IRES-Cre/wt;Ai148(TIT2L-GC6f-ICL-tTA2)/wt</td>\n",
              "      <td>412036</td>\n",
              "      <td>Ai148(TIT2L-GC6f-ICL-tTA2)</td>\n",
              "      <td>[Vip-IRES-Cre]</td>\n",
              "      <td>F</td>\n",
              "      <td>156.0</td>\n",
              "      <td>Vip-IRES-Cre</td>\n",
              "      <td>GCaMP6f</td>\n",
              "      <td>2.0</td>\n",
              "      <td>...</td>\n",
              "      <td>791352433</td>\n",
              "      <td>VisualBehavior</td>\n",
              "      <td>175</td>\n",
              "      <td>VISp</td>\n",
              "      <td>2018-12-18 23:26:29.000000</td>\n",
              "      <td>OPHYS_2_images_A_passive</td>\n",
              "      <td>Familiar</td>\n",
              "      <td>True</td>\n",
              "      <td>A</td>\n",
              "      <td>859888258</td>\n",
              "    </tr>\n",
              "  </tbody>\n",
              "</table>\n",
              "<p>6 rows × 25 columns</p>\n",
              "</div>\n",
              "      <button class=\"colab-df-convert\" onclick=\"convertToInteractive('df-8fe78d21-03b2-4953-a0b0-be2e7cf278ee')\"\n",
              "              title=\"Convert this dataframe to an interactive table.\"\n",
              "              style=\"display:none;\">\n",
              "        \n",
              "  <svg xmlns=\"http://www.w3.org/2000/svg\" height=\"24px\"viewBox=\"0 0 24 24\"\n",
              "       width=\"24px\">\n",
              "    <path d=\"M0 0h24v24H0V0z\" fill=\"none\"/>\n",
              "    <path d=\"M18.56 5.44l.94 2.06.94-2.06 2.06-.94-2.06-.94-.94-2.06-.94 2.06-2.06.94zm-11 1L8.5 8.5l.94-2.06 2.06-.94-2.06-.94L8.5 2.5l-.94 2.06-2.06.94zm10 10l.94 2.06.94-2.06 2.06-.94-2.06-.94-.94-2.06-.94 2.06-2.06.94z\"/><path d=\"M17.41 7.96l-1.37-1.37c-.4-.4-.92-.59-1.43-.59-.52 0-1.04.2-1.43.59L10.3 9.45l-7.72 7.72c-.78.78-.78 2.05 0 2.83L4 21.41c.39.39.9.59 1.41.59.51 0 1.02-.2 1.41-.59l7.78-7.78 2.81-2.81c.8-.78.8-2.07 0-2.86zM5.41 20L4 18.59l7.72-7.72 1.47 1.35L5.41 20z\"/>\n",
              "  </svg>\n",
              "      </button>\n",
              "      \n",
              "  <style>\n",
              "    .colab-df-container {\n",
              "      display:flex;\n",
              "      flex-wrap:wrap;\n",
              "      gap: 12px;\n",
              "    }\n",
              "\n",
              "    .colab-df-convert {\n",
              "      background-color: #E8F0FE;\n",
              "      border: none;\n",
              "      border-radius: 50%;\n",
              "      cursor: pointer;\n",
              "      display: none;\n",
              "      fill: #1967D2;\n",
              "      height: 32px;\n",
              "      padding: 0 0 0 0;\n",
              "      width: 32px;\n",
              "    }\n",
              "\n",
              "    .colab-df-convert:hover {\n",
              "      background-color: #E2EBFA;\n",
              "      box-shadow: 0px 1px 2px rgba(60, 64, 67, 0.3), 0px 1px 3px 1px rgba(60, 64, 67, 0.15);\n",
              "      fill: #174EA6;\n",
              "    }\n",
              "\n",
              "    [theme=dark] .colab-df-convert {\n",
              "      background-color: #3B4455;\n",
              "      fill: #D2E3FC;\n",
              "    }\n",
              "\n",
              "    [theme=dark] .colab-df-convert:hover {\n",
              "      background-color: #434B5C;\n",
              "      box-shadow: 0px 1px 3px 1px rgba(0, 0, 0, 0.15);\n",
              "      filter: drop-shadow(0px 1px 2px rgba(0, 0, 0, 0.3));\n",
              "      fill: #FFFFFF;\n",
              "    }\n",
              "  </style>\n",
              "\n",
              "      <script>\n",
              "        const buttonEl =\n",
              "          document.querySelector('#df-8fe78d21-03b2-4953-a0b0-be2e7cf278ee button.colab-df-convert');\n",
              "        buttonEl.style.display =\n",
              "          google.colab.kernel.accessAllowed ? 'block' : 'none';\n",
              "\n",
              "        async function convertToInteractive(key) {\n",
              "          const element = document.querySelector('#df-8fe78d21-03b2-4953-a0b0-be2e7cf278ee');\n",
              "          const dataTable =\n",
              "            await google.colab.kernel.invokeFunction('convertToInteractive',\n",
              "                                                     [key], {});\n",
              "          if (!dataTable) return;\n",
              "\n",
              "          const docLinkHtml = 'Like what you see? Visit the ' +\n",
              "            '<a target=\"_blank\" href=https://colab.research.google.com/notebooks/data_table.ipynb>data table notebook</a>'\n",
              "            + ' to learn more about interactive tables.';\n",
              "          element.innerHTML = '';\n",
              "          dataTable['output_type'] = 'display_data';\n",
              "          await google.colab.output.renderOutput(dataTable, element);\n",
              "          const docLink = document.createElement('div');\n",
              "          docLink.innerHTML = docLinkHtml;\n",
              "          element.appendChild(docLink);\n",
              "        }\n",
              "      </script>\n",
              "    </div>\n",
              "  </div>\n",
              "  "
            ]
          },
          "metadata": {},
          "execution_count": 30
        }
      ]
    },
    {
      "cell_type": "markdown",
      "source": [
        "For this specific Vip mouse we have six imaging session sorted by date of aquisition. In `session_type` column it can be seen what type of image was presented and what kind of task (active or passive ) was performed. \n",
        "In the next cell we want to compare the neural response around stimulus omittion during active and passive task."
      ],
      "metadata": {
        "id": "tf-2Tl-1yGTZ"
      }
    },
    {
      "cell_type": "code",
      "source": [
        "# getting passive and active experiment ids for this mouse (just one active and one passive session where \"image_B\" was presented)\n",
        "this_mouse_Vip_passive_experiment_id = this_mouse_Vip_experiment_table[this_mouse_Vip_experiment_table.session_type.str.contains(\"passive\")].index[0]\n",
        "this_mouse_Vip_active_experiment_id = this_mouse_Vip_experiment_table[~this_mouse_Vip_experiment_table.session_type.str.contains(\"passive\")].index[2]\n",
        "\n",
        "\n",
        "# loading experiment dataset \n",
        "this_mouse_Vip_passive_experiment = cache.get_behavior_ophys_experiment(this_mouse_Vip_passive_experiment_id)\n",
        "this_mouse_Vip_active_experiment = cache.get_behavior_ophys_experiment (this_mouse_Vip_active_experiment_id)"
      ],
      "metadata": {
        "id": "aPNhDFKoUaYk",
        "colab": {
          "base_uri": "https://localhost:8080/"
        },
        "outputId": "2e6baa4d-4bea-484b-a8c5-2ac46f2b865d"
      },
      "execution_count": 31,
      "outputs": [
        {
          "output_type": "execute_result",
          "data": {
            "text/plain": [
              "<allensdk.brain_observatory.behavior.behavior_ophys_experiment.BehaviorOphysExperiment at 0x7f8a4f9034d0>"
            ]
          },
          "metadata": {},
          "execution_count": 31
        }
      ]
    },
    {
      "cell_type": "code",
      "source": [
        "this_mouse_Vip_passive_experiment.get_performance_metrics()\n",
        "\n",
        "\n"
      ],
      "metadata": {
        "colab": {
          "base_uri": "https://localhost:8080/"
        },
        "id": "8MOzL7dMimPD",
        "outputId": "9d7ae886-7526-476c-c23f-b3ceb43e002a"
      },
      "execution_count": 34,
      "outputs": [
        {
          "output_type": "execute_result",
          "data": {
            "text/plain": [
              "{'auto_reward_count': 0,\n",
              " 'catch_trial_count': 51,\n",
              " 'correct_reject_trial_count': 51,\n",
              " 'earned_reward_count': 0,\n",
              " 'engaged_trial_count': 0,\n",
              " 'false_alarm_trial_count': 0,\n",
              " 'go_trial_count': 351,\n",
              " 'hit_trial_count': 0,\n",
              " 'max_dprime': 0.0,\n",
              " 'max_dprime_engaged': nan,\n",
              " 'maximum_reward_rate': 0.0,\n",
              " 'mean_dprime': 0.0,\n",
              " 'mean_dprime_engaged': nan,\n",
              " 'mean_false_alarm_rate': 0.057230044349333695,\n",
              " 'mean_false_alarm_rate_engaged': nan,\n",
              " 'mean_false_alarm_rate_uncorrected': 0.0,\n",
              " 'mean_hit_rate': 0.011195078480863365,\n",
              " 'mean_hit_rate_engaged': nan,\n",
              " 'mean_hit_rate_uncorrected': 0.0,\n",
              " 'miss_trial_count': 351,\n",
              " 'total_reward_count': 0,\n",
              " 'total_reward_volume': 0.0,\n",
              " 'trial_count': 402}"
            ]
          },
          "metadata": {},
          "execution_count": 34
        }
      ]
    },
    {
      "cell_type": "code",
      "source": [
        ""
      ],
      "metadata": {
        "id": "El4xSwTyimYf"
      },
      "execution_count": null,
      "outputs": []
    },
    {
      "cell_type": "code",
      "source": [
        "#Just a code that might help later on\n",
        "#M='M'\n",
        "#behavior_table.query('sex == @ M')\n",
        "#This way we can specifically ask for the data containing these parameters. the mouse only being male (which is better since female mices' results aren't as reliable)"
      ],
      "metadata": {
        "id": "6kE0ksTJ5niX"
      },
      "execution_count": null,
      "outputs": []
    }
  ]
}